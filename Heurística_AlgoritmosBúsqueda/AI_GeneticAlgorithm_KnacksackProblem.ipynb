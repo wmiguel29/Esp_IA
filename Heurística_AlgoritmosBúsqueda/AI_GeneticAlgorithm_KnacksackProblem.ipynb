{
  "nbformat": 4,
  "nbformat_minor": 0,
  "metadata": {
    "colab": {
      "provenance": [],
      "authorship_tag": "ABX9TyPOuAWPrDZCv+UaNfvCrDbT",
      "include_colab_link": true
    },
    "kernelspec": {
      "name": "python3",
      "display_name": "Python 3"
    },
    "language_info": {
      "name": "python"
    }
  },
  "cells": [
    {
      "cell_type": "markdown",
      "metadata": {
        "id": "view-in-github",
        "colab_type": "text"
      },
      "source": [
        "<a href=\"https://colab.research.google.com/github/ibonetc/Esp_IA/blob/main/Heur%C3%ADstica_AlgoritmosB%C3%BAsqueda/AI_GeneticAlgorithm_KnacksackProblem.ipynb\" target=\"_parent\"><img src=\"https://colab.research.google.com/assets/colab-badge.svg\" alt=\"Open In Colab\"/></a>"
      ]
    },
    {
      "cell_type": "markdown",
      "metadata": {
        "id": "vdtUE7wlsG1U"
      },
      "source": [
        "# Problema de la mochila con algoritmos genéticos"
      ]
    },
    {
      "cell_type": "markdown",
      "metadata": {
        "id": "rpXs5PIco1Ex"
      },
      "source": [
        "Supondremos que tenemos N productos para poner en la mochila, cada producto tiene un peso y un precio. La mochila tiene un peso máximo permitido.\n",
        "Para esto tenemos una lista con los N pesos (weights) y otra con los N precios (prices)."
      ]
    },
    {
      "cell_type": "code",
      "metadata": {
        "id": "dXOsFCzkmb2X"
      },
      "source": [
        "import numpy as np\n",
        "import pandas as pd\n",
        "import plotly.express as px"
      ],
      "execution_count": null,
      "outputs": []
    },
    {
      "cell_type": "markdown",
      "metadata": {
        "id": "9HmK4EHDsYQ7"
      },
      "source": [
        "Generar variables aleatorias con vectores de pesos y precios suponiendo que se tienen 10 Productos."
      ]
    },
    {
      "cell_type": "markdown",
      "metadata": {
        "id": "WleLHtpDplrD"
      },
      "source": [
        "Ejemplo: Se suponen N productos en una mochila con una capacidad W. Por defecto pondremos N=10 y W= 15 kg"
      ]
    },
    {
      "cell_type": "code",
      "metadata": {
        "id": "eYpHUwbns8iK"
      },
      "source": [
        "#@title Introduzca los valores de N (cantidad de productos), W en kg permitidos para la mochila\n",
        "N = 10 #@param {type:\"integer\"}\n",
        "W = 15 #@param {type:\"integer\"}\n",
        "\n"
      ],
      "execution_count": null,
      "outputs": []
    },
    {
      "cell_type": "code",
      "metadata": {
        "id": "HmkIvDEWxU48"
      },
      "source": [
        "#@title Rango de precios\n",
        "\n",
        "minprice = 1 #@param {type:\"number\"}\n",
        "maxprice = 100 #@param {type:\"number\"}"
      ],
      "execution_count": null,
      "outputs": []
    },
    {
      "cell_type": "markdown",
      "metadata": {
        "id": "ioE7hODzuiOa"
      },
      "source": [
        "Generar los vectores ***weights*** y ***prices*** aleatorios"
      ]
    },
    {
      "cell_type": "code",
      "metadata": {
        "id": "z3_y14X6u18q"
      },
      "source": [
        "weights = W*np.random.random_sample((N,))\n",
        "prices = (maxprice-minprice)*np.random.random_sample((N,))+minprice"
      ],
      "execution_count": null,
      "outputs": []
    },
    {
      "cell_type": "code",
      "metadata": {
        "colab": {
          "base_uri": "https://localhost:8080/"
        },
        "id": "FUG7yxPNeM9K",
        "outputId": "e7704ad9-b557-46ea-c580-3663830aba59"
      },
      "source": [
        "weights"
      ],
      "execution_count": null,
      "outputs": [
        {
          "output_type": "execute_result",
          "data": {
            "text/plain": [
              "array([ 1.59300234,  6.27967442, 10.14911665, 13.6839355 ,  2.90152515,\n",
              "        3.20229804,  2.76581133,  0.88286502, 13.07922603, 12.92808265])"
            ]
          },
          "metadata": {},
          "execution_count": 5
        }
      ]
    },
    {
      "cell_type": "code",
      "metadata": {
        "colab": {
          "base_uri": "https://localhost:8080/"
        },
        "id": "Wctk6vjHeOqO",
        "outputId": "b1ebc128-dd28-4690-c68e-c4f852c5913d"
      },
      "source": [
        "prices"
      ],
      "execution_count": null,
      "outputs": [
        {
          "output_type": "execute_result",
          "data": {
            "text/plain": [
              "array([98.81442163, 96.96781743, 82.46809405, 92.82542385, 75.23746724,\n",
              "       45.77474854,  6.34741074, 12.5903994 , 66.2133136 , 77.67633774])"
            ]
          },
          "metadata": {},
          "execution_count": 6
        }
      ]
    },
    {
      "cell_type": "markdown",
      "metadata": {
        "id": "uGCWYkcQl05r"
      },
      "source": [
        "## Generar población\n",
        "Inicializar una población de tamaño N, cromosoma aleatorio binario"
      ]
    },
    {
      "cell_type": "code",
      "metadata": {
        "id": "18TImmS0uKNC"
      },
      "source": [
        "#@title Introduzca tamaño de la población, para generar la misma\n",
        "NP =  30#@param {type:\"integer\"}"
      ],
      "execution_count": null,
      "outputs": []
    },
    {
      "cell_type": "code",
      "metadata": {
        "id": "d2Nm2m_Eh4ib"
      },
      "source": [
        "population = [np.random.randint(0, 2, N) for _ in range(NP)]\n"
      ],
      "execution_count": null,
      "outputs": []
    },
    {
      "cell_type": "code",
      "metadata": {
        "colab": {
          "base_uri": "https://localhost:8080/"
        },
        "id": "c461jPT5ewLO",
        "outputId": "6b8753d7-80d5-48cc-fe0b-efa51d39a600"
      },
      "source": [
        "population"
      ],
      "execution_count": null,
      "outputs": [
        {
          "output_type": "execute_result",
          "data": {
            "text/plain": [
              "[array([1, 0, 1, 1, 0, 1, 0, 0, 1, 1]),\n",
              " array([0, 1, 0, 0, 1, 0, 1, 0, 1, 1]),\n",
              " array([1, 0, 0, 0, 1, 1, 0, 1, 1, 1]),\n",
              " array([1, 1, 0, 1, 0, 0, 0, 1, 0, 1]),\n",
              " array([1, 1, 0, 0, 1, 1, 1, 0, 0, 0]),\n",
              " array([1, 1, 1, 0, 1, 0, 1, 0, 0, 0]),\n",
              " array([0, 0, 0, 1, 0, 1, 0, 1, 1, 1]),\n",
              " array([0, 0, 1, 1, 1, 1, 0, 1, 0, 1]),\n",
              " array([1, 0, 0, 1, 1, 0, 0, 0, 0, 1]),\n",
              " array([0, 0, 1, 0, 0, 1, 0, 1, 1, 1]),\n",
              " array([0, 1, 0, 1, 0, 1, 0, 0, 0, 0]),\n",
              " array([0, 1, 1, 1, 0, 1, 0, 1, 1, 1]),\n",
              " array([0, 0, 0, 1, 0, 1, 1, 1, 1, 0]),\n",
              " array([0, 1, 0, 0, 1, 1, 0, 0, 1, 0]),\n",
              " array([0, 0, 1, 1, 0, 0, 0, 1, 0, 1]),\n",
              " array([1, 0, 0, 0, 1, 1, 0, 1, 0, 0]),\n",
              " array([1, 1, 0, 0, 1, 0, 1, 1, 0, 0]),\n",
              " array([0, 1, 1, 0, 1, 1, 0, 0, 0, 0]),\n",
              " array([0, 1, 1, 0, 0, 1, 1, 0, 1, 0]),\n",
              " array([0, 0, 0, 0, 0, 0, 1, 1, 0, 0]),\n",
              " array([1, 1, 0, 1, 1, 0, 0, 0, 1, 0]),\n",
              " array([0, 1, 1, 0, 0, 1, 1, 0, 0, 0]),\n",
              " array([0, 1, 1, 1, 0, 0, 0, 0, 0, 0]),\n",
              " array([0, 0, 1, 1, 1, 1, 0, 0, 1, 0]),\n",
              " array([0, 0, 1, 0, 0, 0, 1, 0, 1, 1]),\n",
              " array([0, 1, 0, 0, 0, 0, 1, 0, 1, 1]),\n",
              " array([1, 0, 0, 0, 0, 1, 0, 1, 0, 1]),\n",
              " array([1, 1, 1, 0, 1, 0, 1, 1, 0, 0]),\n",
              " array([1, 1, 0, 0, 0, 1, 0, 0, 1, 1]),\n",
              " array([0, 0, 0, 1, 0, 0, 0, 1, 0, 0])]"
            ]
          },
          "metadata": {},
          "execution_count": 9
        }
      ]
    },
    {
      "cell_type": "code",
      "metadata": {
        "id": "p00N889FLDf5"
      },
      "source": [
        "def generateFirstPopulation(N, NP):\n",
        "  population =[np.random.randint(0, 2, N) for _ in range(NP)]\n",
        "  return population"
      ],
      "execution_count": null,
      "outputs": []
    },
    {
      "cell_type": "markdown",
      "metadata": {
        "id": "GmQWgaX8m6-3"
      },
      "source": [
        "Hay que definir una función objtivo para evaluar cada uno de los individuos de la población. En este caso lo vamos a hacer para maximizar.\n",
        "\n",
        "```\n",
        "def fitnessFunct(x):\n",
        "....\n",
        "```\n",
        "\n"
      ]
    },
    {
      "cell_type": "markdown",
      "metadata": {
        "id": "bruIL7v6zaaw"
      },
      "source": [
        "Sea x un individuo o cromosoma, la función en este caso debe cumplir:\n",
        "\n",
        "Maximize  \n",
        "![image.png](data:image/png;base64,iVBORw0KGgoAAAANSUhEUgAAAFAAAAAmCAYAAABTahxxAAACwUlEQVRoBe2WDY3CQBBGawENWMADEtCABRzgAAcoQAEGMIADPOzlNfnIdNilV4YQQmcSrtuy8/f67XBdSQsR6ELe6VwSYFAECTABBgkE3VOBCTBIIOieCkyAQQJB91RgAgwSCLqHFLhcLkvXdeVyufRl7Pf7/p7rXCwE8Hg8ls1mU7bb7Z3XarW6r+ewGAA8HA69glBV62PVBTjUt1gsyu12K+fzuex2uzlwu/c4AAgEjiUf1tYEygJEfdh6vS6oke9Op5N1+/n1ACDdoiLUJziWAOoSQIBKbTrKgPTgrf8vrh8A0iRggPhMTYAEHAY0jvHc5h+9VwHqKGu29ZTMn+v12gPmqMuYh1Kknk29akzoRXBPDvsjNRaTE6RTUttLb5wUeqMPRMCaPNxPtSpAgugok+xTxgugQdRPfsBx/x9jP/4CyA9iDSR7AMVLYg1ACaa2fyx3EyCOJKAZlPBJozkUMTWvoKMoan8Gn76ALEMobweIAqYcHxUTvdJ87UdMP1at+AABxBgMQAPZGi9MQFGo/97uteumAilWs8g62PVYQ3YvawqnOa4tQ3XsoaEpRkzAc0VJ1CYgPo5A6zk+KPJtM1DD2wckEc3VjKIpwn90LGiID2CIUzPyoTyuxGEfUDDFHzvW+ChnLQfPyCFxEE/zkO/wJ3cLvo/5oEAN1Nq/MASd2pBP2FIgo4JGNLdokmNk6/jvsfI5/T1x9EK0tnuocexFaf8DQAqvvUGBtd+90lALoApqXWmI2qJGHBT2zKaMj0EkFOaPoL8XQN+Q3mhrvwp+FSC1kYMxEDHiUEPL6Es1+hFW8xkArG1oPXulIanYHstWfP+cfCg+CpBRQZzWHJZCNap8Hf4+BHBKQ16hz1Tgi/zm+5cBfnNTn6wtAQZpJ8AEGCQQdE8FJsAggaB7KjABBgkE3VOBCTBIIOj+BztGd9RZ3XXyAAAAAElFTkSuQmCC)\n",
        "\n",
        "Con la restricción de que \n",
        "\n",
        "![image.png](data:image/png;base64,iVBORw0KGgoAAAANSUhEUgAAAHIAAAAgCAYAAADOmyyBAAADg0lEQVRoBe2YgZHiMAxF0wI10AI9UAI10AId0AEdUAEV0AAN0AE9+Obl5me0PsWxszkYB2uGSeLYsvSf5OxsF5qtQoFuFVm0JEIDuZIiaCAbyJUosJI0Wkd+I8jr9Rq6rguHw2FIn2d+zT6rQDGB4/EYNptNeD6ffeTn8zncbrfPZtF2D93lcuk7Sp3lXYGFAe90OgVgamy/34fX69Wk/LACHRC2223/i4E8Ho+++wSNo5Xuu9/v/Xxi3+12H06hnu3RjdOMZqEZZPpk6Rnd1VC5+vZHKxuw0H775JQOFEjeCzbw6WbeN/urAADQA23GDA15Lx2ZxzP6W8MP0PGZY8NqFuJs7HvHxrY6gJuan7P5GuZYeOhDcevvBy8/dONzJKOJeI5BMkan5toAElBUBlVgq0WOOArYTM4JlmdvrtbkXOVXBaSCSokR+0UcBBkz4rRC6ejSfAmZ8qG5XC08OgxNcnWIQQqYjU9w7Z5T9wNIJuIAhzh/h+l7CzwJokLJ2Z/qZz7i4Iui8GDoDzr51LOKhTWp41DruFqNtN6+n7q3IPGlmC1IOjv3SNV+P0AyqI4odSSHc65A4CQgqVIDJIUHCAB5JvHVNczlxziGj5ICWqojiZtiUHyKBQal9g9IxJwjaOnGdj4CU5Fe8RDLGCDWkTQVTEfreLa+uZd/BAMYaxCRZ96x1hqQvVjsHN1bqCXfSPaWzgJJLOzNtdR+gCRJgklZSZL4wSdrUoawzCnpCvwBmDX6RuIHUTyjUABNfggFSNazJhea59eOWah23N4TL3urG3knkOQxVrTWh3c/gCQIxIzPfTZhU88YR6D4JzEJjMB5P2aaoy4hDgHFP0fulAlkah65AVFdSzfwzFprxBp3qH3/23u0iT8jAjnVRKm9e4XV0krSLlDVMjY3SQ8kBcO4oClBWzSMLSUqfnWUkQsAPeEYT3WFRCf21M9qaO+13jaMxrjOtR4kYsWViUMB1rupJMeC8ECOzbXjCJoS1c5d6h4tljpql4opx0/R/1rjJKeOVgUwFyT7cUp4J4V8L33l2NNfkkv7/p/+xj9ezq5zkqS6ATnnLzFA8m17Z4eQIwU6J15HsrcNFYMsSTLuWB3Rb8vuizYqAvlFulSXagNZHTI/4AbS16W60QayOmR+wA2kr0t1ow1kdcj8gBtIX5fqRhvI6pD5ATeQvi7Vjf4BuCka7yHLADUAAAAASUVORK5CYII=)\n"
      ]
    },
    {
      "cell_type": "code",
      "metadata": {
        "id": "UegpUHo4mmKC"
      },
      "source": [
        "def fitnessFunct(x):\n",
        "  return sum(x*prices)\n"
      ],
      "execution_count": null,
      "outputs": []
    },
    {
      "cell_type": "code",
      "metadata": {
        "id": "Ryp06HFX1xMR"
      },
      "source": [
        "def valid(x):\n",
        "  return 0<sum(x*weights)<=W"
      ],
      "execution_count": null,
      "outputs": []
    },
    {
      "cell_type": "code",
      "metadata": {
        "colab": {
          "base_uri": "https://localhost:8080/"
        },
        "id": "wuQvtmDL2InL",
        "outputId": "8c4055e6-eff7-431b-a8c5-fbbde002a756"
      },
      "source": [
        "fitnessFunct(population[0])"
      ],
      "execution_count": null,
      "outputs": [
        {
          "output_type": "execute_result",
          "data": {
            "text/plain": [
              "463.77233940775113"
            ]
          },
          "metadata": {},
          "execution_count": 13
        }
      ]
    },
    {
      "cell_type": "code",
      "metadata": {
        "id": "Y1ZTJDSm2PxB"
      },
      "source": [
        "V=[i for i,p in enumerate(population) if valid(p)]"
      ],
      "execution_count": null,
      "outputs": []
    },
    {
      "cell_type": "code",
      "metadata": {
        "colab": {
          "base_uri": "https://localhost:8080/"
        },
        "id": "QgNL-J_a3NEE",
        "outputId": "c56aab3f-6caa-44de-917c-b58dfc7f6520"
      },
      "source": [
        "V"
      ],
      "execution_count": null,
      "outputs": [
        {
          "output_type": "execute_result",
          "data": {
            "text/plain": [
              "[15, 16, 19, 29]"
            ]
          },
          "metadata": {},
          "execution_count": 15
        }
      ]
    },
    {
      "cell_type": "markdown",
      "metadata": {
        "id": "NKd5QIAL4S0S"
      },
      "source": [
        "Se puede hacer la generación de la población ya con individuos válidos o se puede poner un valor muy pequeño en la función objetiov si no es válido"
      ]
    },
    {
      "cell_type": "code",
      "metadata": {
        "id": "C_JibItC4cQp"
      },
      "source": [
        "def fitnessFunct(x):\n",
        "  return 0.1 if not valid(x) else sum(x*prices)"
      ],
      "execution_count": null,
      "outputs": []
    },
    {
      "cell_type": "code",
      "metadata": {
        "colab": {
          "base_uri": "https://localhost:8080/"
        },
        "id": "hYXS5STi4oHR",
        "outputId": "cb9bf239-a2cd-4eb6-b9f4-8b0114b44ca6"
      },
      "source": [
        "fitnessFunct(population[15])"
      ],
      "execution_count": null,
      "outputs": [
        {
          "output_type": "execute_result",
          "data": {
            "text/plain": [
              "232.41703680738215"
            ]
          },
          "metadata": {},
          "execution_count": 19
        }
      ]
    },
    {
      "cell_type": "markdown",
      "metadata": {
        "id": "c_AHaw-DUlxZ"
      },
      "source": [
        "Si queremos generar la población desde un inicio que tenga hijos válidos:"
      ]
    },
    {
      "cell_type": "code",
      "metadata": {
        "id": "9m8v2cHwUqGj"
      },
      "source": [
        "def generateFirstPopulation(N, NP):\n",
        "  population=[]\n",
        "  count=0;\n",
        "  while True:\n",
        "    ind =np.random.randint(0, 2, N)\n",
        "    if (valid(ind)):\n",
        "      population.append(ind)\n",
        "      count=count+1\n",
        "    if count==NP:\n",
        "      return population"
      ],
      "execution_count": null,
      "outputs": []
    },
    {
      "cell_type": "markdown",
      "metadata": {
        "id": "Ma4XbIJyrZAA"
      },
      "source": [
        "## Selección, mutación y cruce"
      ]
    },
    {
      "cell_type": "markdown",
      "metadata": {
        "id": "4mfIPpLl5fw6"
      },
      "source": [
        "El algoritmo para el algoritmo genético lleva tener un método de selección, uno de mutación y uno de cruce.\n",
        "\n",
        "Vamos a hacer para selección: Método de la ruleta\n",
        "\n",
        "para mutación: mutación en un punto\n",
        "\n",
        "para cruce: Cruce de un punto"
      ]
    },
    {
      "cell_type": "markdown",
      "metadata": {
        "id": "ssT9Xzp-rTzZ"
      },
      "source": [
        "### Selección: Método de la ruleta"
      ]
    },
    {
      "cell_type": "markdown",
      "metadata": {
        "id": "EczYnJDj1b0J"
      },
      "source": [
        "Ejemplo con 5 individuos"
      ]
    },
    {
      "cell_type": "code",
      "metadata": {
        "colab": {
          "base_uri": "https://localhost:8080/"
        },
        "id": "fcDbMY5C5z7N",
        "outputId": "604c5be1-43d5-4a98-9381-8fae4b68e77c"
      },
      "source": [
        "population=generateFirstPopulation(N,NP)\n",
        "## Ordenar la población según la función objetivo\n",
        "sorted_population=sorted(population,key=fitnessFunct,reverse=True)\n",
        "#Como un ejemplo para entender la ruleta\n",
        "#Para visualizar voy a tomar sólo los 5 primeros\n",
        "sp=sorted_population[0:5]\n",
        "of=[fitnessFunct(s) for s in sp]\n",
        "print(of)\n",
        "probability=of/sum(of)\n",
        "print(probability)\n",
        "accumulatedProb=np.cumsum(probability)\n",
        "accumulatedProb"
      ],
      "execution_count": null,
      "outputs": [
        {
          "output_type": "stream",
          "name": "stdout",
          "text": [
            "[329.3848542329946, 329.3848542329946, 316.7944548349837, 283.6101056935281, 283.6101056935281]\n",
            "[0.21350025 0.21350025 0.20533942 0.18383004 0.18383004]\n"
          ]
        },
        {
          "output_type": "execute_result",
          "data": {
            "text/plain": [
              "array([0.21350025, 0.42700051, 0.63233993, 0.81616996, 1.        ])"
            ]
          },
          "metadata": {},
          "execution_count": 26
        }
      ]
    },
    {
      "cell_type": "code",
      "metadata": {
        "id": "5XxDwgShxLax"
      },
      "source": [
        "df = pd.DataFrame(list(zip(sp, of,probability,accumulatedProb)),\n",
        "               columns =['individual', 'fitnessFunct','probability','accumulated probability'])"
      ],
      "execution_count": null,
      "outputs": []
    },
    {
      "cell_type": "code",
      "metadata": {
        "colab": {
          "base_uri": "https://localhost:8080/",
          "height": 204
        },
        "id": "WZ2Ntnt_x8K3",
        "outputId": "0f5a7036-cee2-4a2c-dc8f-84f4d700e1c4"
      },
      "source": [
        "df"
      ],
      "execution_count": null,
      "outputs": [
        {
          "output_type": "execute_result",
          "data": {
            "text/html": [
              "<div>\n",
              "<style scoped>\n",
              "    .dataframe tbody tr th:only-of-type {\n",
              "        vertical-align: middle;\n",
              "    }\n",
              "\n",
              "    .dataframe tbody tr th {\n",
              "        vertical-align: top;\n",
              "    }\n",
              "\n",
              "    .dataframe thead th {\n",
              "        text-align: right;\n",
              "    }\n",
              "</style>\n",
              "<table border=\"1\" class=\"dataframe\">\n",
              "  <thead>\n",
              "    <tr style=\"text-align: right;\">\n",
              "      <th></th>\n",
              "      <th>individual</th>\n",
              "      <th>fitnessFunct</th>\n",
              "      <th>probability</th>\n",
              "      <th>accumulated probability</th>\n",
              "    </tr>\n",
              "  </thead>\n",
              "  <tbody>\n",
              "    <tr>\n",
              "      <th>0</th>\n",
              "      <td>[1, 1, 0, 0, 1, 1, 0, 1, 0, 0]</td>\n",
              "      <td>329.384854</td>\n",
              "      <td>0.213500</td>\n",
              "      <td>0.213500</td>\n",
              "    </tr>\n",
              "    <tr>\n",
              "      <th>1</th>\n",
              "      <td>[1, 1, 0, 0, 1, 1, 0, 1, 0, 0]</td>\n",
              "      <td>329.384854</td>\n",
              "      <td>0.213500</td>\n",
              "      <td>0.427001</td>\n",
              "    </tr>\n",
              "    <tr>\n",
              "      <th>2</th>\n",
              "      <td>[1, 1, 0, 0, 1, 1, 0, 0, 0, 0]</td>\n",
              "      <td>316.794455</td>\n",
              "      <td>0.205339</td>\n",
              "      <td>0.632340</td>\n",
              "    </tr>\n",
              "    <tr>\n",
              "      <th>3</th>\n",
              "      <td>[1, 1, 0, 0, 1, 0, 0, 1, 0, 0]</td>\n",
              "      <td>283.610106</td>\n",
              "      <td>0.183830</td>\n",
              "      <td>0.816170</td>\n",
              "    </tr>\n",
              "    <tr>\n",
              "      <th>4</th>\n",
              "      <td>[1, 1, 0, 0, 1, 0, 0, 1, 0, 0]</td>\n",
              "      <td>283.610106</td>\n",
              "      <td>0.183830</td>\n",
              "      <td>1.000000</td>\n",
              "    </tr>\n",
              "  </tbody>\n",
              "</table>\n",
              "</div>"
            ],
            "text/plain": [
              "                       individual  ...  accumulated probability\n",
              "0  [1, 1, 0, 0, 1, 1, 0, 1, 0, 0]  ...                 0.213500\n",
              "1  [1, 1, 0, 0, 1, 1, 0, 1, 0, 0]  ...                 0.427001\n",
              "2  [1, 1, 0, 0, 1, 1, 0, 0, 0, 0]  ...                 0.632340\n",
              "3  [1, 1, 0, 0, 1, 0, 0, 1, 0, 0]  ...                 0.816170\n",
              "4  [1, 1, 0, 0, 1, 0, 0, 1, 0, 0]  ...                 1.000000\n",
              "\n",
              "[5 rows x 4 columns]"
            ]
          },
          "metadata": {},
          "execution_count": 28
        }
      ]
    },
    {
      "cell_type": "code",
      "metadata": {
        "colab": {
          "base_uri": "https://localhost:8080/",
          "height": 249
        },
        "id": "Tvje9BR1HXCL",
        "outputId": "1cc210ab-ce11-4638-beef-953799d57a24"
      },
      "source": [
        "import matplotlib.pyplot as plt\n",
        "\n",
        "labels = np.arange(len(probability))\n",
        "\n",
        "fig1, ax1 = plt.subplots()\n",
        "ax1.pie(probability, labels=labels, autopct='%1.1f%%',shadow=True, startangle=90)\n",
        "ax1.axis('equal')\n",
        "plt.show()"
      ],
      "execution_count": null,
      "outputs": [
        {
          "output_type": "display_data",
          "data": {
            "image/png": "[encoded data removed]",
            "text/plain": [
              "<Figure size 432x288 with 1 Axes>"
            ]
          },
          "metadata": {}
        }
      ]
    },
    {
      "cell_type": "code",
      "metadata": {
        "colab": {
          "base_uri": "https://localhost:8080/",
          "height": 542
        },
        "id": "KQVWhXR1wHHw",
        "outputId": "0ebb7eea-84bc-4ed1-e290-6d49a64104b2"
      },
      "source": [
        "import plotly.graph_objects as go\n",
        "fig = go.Figure(data=[go.Pie(labels=labels, values=of, textinfo='label+percent')])\n",
        "fig.show()"
      ],
      "execution_count": null,
      "outputs": [
        {
          "output_type": "display_data",
          "data": {
            "text/html": [
              "<html>\n",
              "<head><meta charset=\"utf-8\" /></head>\n",
              "<body>\n",
              "    <div>\n",
              "            <script src=\"https://cdnjs.cloudflare.com/ajax/libs/mathjax/2.7.5/MathJax.js?config=TeX-AMS-MML_SVG\"></script><script type=\"text/javascript\">if (window.MathJax) {MathJax.Hub.Config({SVG: {font: \"STIX-Web\"}});}</script>\n",
              "                <script type=\"text/javascript\">window.PlotlyConfig = {MathJaxConfig: 'local'};</script>\n",
              "        <script src=\"https://cdn.plot.ly/plotly-latest.min.js\"></script>    \n",
              "            <div id=\"0080ecc0-2336-45d3-8138-49b0cb326cf0\" class=\"plotly-graph-div\" style=\"height:525px; width:100%;\"></div>\n",
              "            <script type=\"text/javascript\">\n",
              "                \n",
              "                    window.PLOTLYENV=window.PLOTLYENV || {};\n",
              "                    \n",
              "                if (document.getElementById(\"0080ecc0-2336-45d3-8138-49b0cb326cf0\")) {\n",
              "                    Plotly.newPlot(\n",
              "                        '0080ecc0-2336-45d3-8138-49b0cb326cf0',\n",
              "                        [{\"labels\": [0, 1, 2, 3, 4], \"textinfo\": \"label+percent\", \"type\": \"pie\", \"values\": [329.3848542329946, 329.3848542329946, 316.7944548349837, 283.6101056935281, 283.6101056935281]}],\n",
              "                        {\"template\": {\"data\": {\"bar\": [{\"error_x\": {\"color\": \"#2a3f5f\"}, \"error_y\": {\"color\": \"#2a3f5f\"}, \"marker\": {\"line\": {\"color\": \"#E5ECF6\", \"width\": 0.5}}, \"type\": \"bar\"}], \"barpolar\": [{\"marker\": {\"line\": {\"color\": \"#E5ECF6\", \"width\": 0.5}}, \"type\": \"barpolar\"}], \"carpet\": [{\"aaxis\": {\"endlinecolor\": \"#2a3f5f\", \"gridcolor\": \"white\", \"linecolor\": \"white\", \"minorgridcolor\": \"white\", \"startlinecolor\": \"#2a3f5f\"}, \"baxis\": {\"endlinecolor\": \"#2a3f5f\", \"gridcolor\": \"white\", \"linecolor\": \"white\", \"minorgridcolor\": \"white\", \"startlinecolor\": \"#2a3f5f\"}, \"type\": \"carpet\"}], \"choropleth\": [{\"colorbar\": {\"outlinewidth\": 0, \"ticks\": \"\"}, \"type\": \"choropleth\"}], \"contour\": [{\"colorbar\": {\"outlinewidth\": 0, \"ticks\": \"\"}, \"colorscale\": [[0.0, \"#0d0887\"], [0.1111111111111111, \"#46039f\"], [0.2222222222222222, \"#7201a8\"], [0.3333333333333333, \"#9c179e\"], [0.4444444444444444, \"#bd3786\"], [0.5555555555555556, \"#d8576b\"], [0.6666666666666666, \"#ed7953\"], [0.7777777777777778, \"#fb9f3a\"], [0.8888888888888888, \"#fdca26\"], [1.0, \"#f0f921\"]], \"type\": \"contour\"}], \"contourcarpet\": [{\"colorbar\": {\"outlinewidth\": 0, \"ticks\": \"\"}, \"type\": \"contourcarpet\"}], \"heatmap\": [{\"colorbar\": {\"outlinewidth\": 0, \"ticks\": \"\"}, \"colorscale\": [[0.0, \"#0d0887\"], [0.1111111111111111, \"#46039f\"], [0.2222222222222222, \"#7201a8\"], [0.3333333333333333, \"#9c179e\"], [0.4444444444444444, \"#bd3786\"], [0.5555555555555556, \"#d8576b\"], [0.6666666666666666, \"#ed7953\"], [0.7777777777777778, \"#fb9f3a\"], [0.8888888888888888, \"#fdca26\"], [1.0, \"#f0f921\"]], \"type\": \"heatmap\"}], \"heatmapgl\": [{\"colorbar\": {\"outlinewidth\": 0, \"ticks\": \"\"}, \"colorscale\": [[0.0, \"#0d0887\"], [0.1111111111111111, \"#46039f\"], [0.2222222222222222, \"#7201a8\"], [0.3333333333333333, \"#9c179e\"], [0.4444444444444444, \"#bd3786\"], [0.5555555555555556, \"#d8576b\"], [0.6666666666666666, \"#ed7953\"], [0.7777777777777778, \"#fb9f3a\"], [0.8888888888888888, \"#fdca26\"], [1.0, \"#f0f921\"]], \"type\": \"heatmapgl\"}], \"histogram\": [{\"marker\": {\"colorbar\": {\"outlinewidth\": 0, \"ticks\": \"\"}}, \"type\": \"histogram\"}], \"histogram2d\": [{\"colorbar\": {\"outlinewidth\": 0, \"ticks\": \"\"}, \"colorscale\": [[0.0, \"#0d0887\"], [0.1111111111111111, \"#46039f\"], [0.2222222222222222, \"#7201a8\"], [0.3333333333333333, \"#9c179e\"], [0.4444444444444444, \"#bd3786\"], [0.5555555555555556, \"#d8576b\"], [0.6666666666666666, \"#ed7953\"], [0.7777777777777778, \"#fb9f3a\"], [0.8888888888888888, \"#fdca26\"], [1.0, \"#f0f921\"]], \"type\": \"histogram2d\"}], \"histogram2dcontour\": [{\"colorbar\": {\"outlinewidth\": 0, \"ticks\": \"\"}, \"colorscale\": [[0.0, \"#0d0887\"], [0.1111111111111111, \"#46039f\"], [0.2222222222222222, \"#7201a8\"], [0.3333333333333333, \"#9c179e\"], [0.4444444444444444, \"#bd3786\"], [0.5555555555555556, \"#d8576b\"], [0.6666666666666666, \"#ed7953\"], [0.7777777777777778, \"#fb9f3a\"], [0.8888888888888888, \"#fdca26\"], [1.0, \"#f0f921\"]], \"type\": \"histogram2dcontour\"}], \"mesh3d\": [{\"colorbar\": {\"outlinewidth\": 0, \"ticks\": \"\"}, \"type\": \"mesh3d\"}], \"parcoords\": [{\"line\": {\"colorbar\": {\"outlinewidth\": 0, \"ticks\": \"\"}}, \"type\": \"parcoords\"}], \"pie\": [{\"automargin\": true, \"type\": \"pie\"}], \"scatter\": [{\"marker\": {\"colorbar\": {\"outlinewidth\": 0, \"ticks\": \"\"}}, \"type\": \"scatter\"}], \"scatter3d\": [{\"line\": {\"colorbar\": {\"outlinewidth\": 0, \"ticks\": \"\"}}, \"marker\": {\"colorbar\": {\"outlinewidth\": 0, \"ticks\": \"\"}}, \"type\": \"scatter3d\"}], \"scattercarpet\": [{\"marker\": {\"colorbar\": {\"outlinewidth\": 0, \"ticks\": \"\"}}, \"type\": \"scattercarpet\"}], \"scattergeo\": [{\"marker\": {\"colorbar\": {\"outlinewidth\": 0, \"ticks\": \"\"}}, \"type\": \"scattergeo\"}], \"scattergl\": [{\"marker\": {\"colorbar\": {\"outlinewidth\": 0, \"ticks\": \"\"}}, \"type\": \"scattergl\"}], \"scattermapbox\": [{\"marker\": {\"colorbar\": {\"outlinewidth\": 0, \"ticks\": \"\"}}, \"type\": \"scattermapbox\"}], \"scatterpolar\": [{\"marker\": {\"colorbar\": {\"outlinewidth\": 0, \"ticks\": \"\"}}, \"type\": \"scatterpolar\"}], \"scatterpolargl\": [{\"marker\": {\"colorbar\": {\"outlinewidth\": 0, \"ticks\": \"\"}}, \"type\": \"scatterpolargl\"}], \"scatterternary\": [{\"marker\": {\"colorbar\": {\"outlinewidth\": 0, \"ticks\": \"\"}}, \"type\": \"scatterternary\"}], \"surface\": [{\"colorbar\": {\"outlinewidth\": 0, \"ticks\": \"\"}, \"colorscale\": [[0.0, \"#0d0887\"], [0.1111111111111111, \"#46039f\"], [0.2222222222222222, \"#7201a8\"], [0.3333333333333333, \"#9c179e\"], [0.4444444444444444, \"#bd3786\"], [0.5555555555555556, \"#d8576b\"], [0.6666666666666666, \"#ed7953\"], [0.7777777777777778, \"#fb9f3a\"], [0.8888888888888888, \"#fdca26\"], [1.0, \"#f0f921\"]], \"type\": \"surface\"}], \"table\": [{\"cells\": {\"fill\": {\"color\": \"#EBF0F8\"}, \"line\": {\"color\": \"white\"}}, \"header\": {\"fill\": {\"color\": \"#C8D4E3\"}, \"line\": {\"color\": \"white\"}}, \"type\": \"table\"}]}, \"layout\": {\"annotationdefaults\": {\"arrowcolor\": \"#2a3f5f\", \"arrowhead\": 0, \"arrowwidth\": 1}, \"coloraxis\": {\"colorbar\": {\"outlinewidth\": 0, \"ticks\": \"\"}}, \"colorscale\": {\"diverging\": [[0, \"#8e0152\"], [0.1, \"#c51b7d\"], [0.2, \"#de77ae\"], [0.3, \"#f1b6da\"], [0.4, \"#fde0ef\"], [0.5, \"#f7f7f7\"], [0.6, \"#e6f5d0\"], [0.7, \"#b8e186\"], [0.8, \"#7fbc41\"], [0.9, \"#4d9221\"], [1, \"#276419\"]], \"sequential\": [[0.0, \"#0d0887\"], [0.1111111111111111, \"#46039f\"], [0.2222222222222222, \"#7201a8\"], [0.3333333333333333, \"#9c179e\"], [0.4444444444444444, \"#bd3786\"], [0.5555555555555556, \"#d8576b\"], [0.6666666666666666, \"#ed7953\"], [0.7777777777777778, \"#fb9f3a\"], [0.8888888888888888, \"#fdca26\"], [1.0, \"#f0f921\"]], \"sequentialminus\": [[0.0, \"#0d0887\"], [0.1111111111111111, \"#46039f\"], [0.2222222222222222, \"#7201a8\"], [0.3333333333333333, \"#9c179e\"], [0.4444444444444444, \"#bd3786\"], [0.5555555555555556, \"#d8576b\"], [0.6666666666666666, \"#ed7953\"], [0.7777777777777778, \"#fb9f3a\"], [0.8888888888888888, \"#fdca26\"], [1.0, \"#f0f921\"]]}, \"colorway\": [\"#636efa\", \"#EF553B\", \"#00cc96\", \"#ab63fa\", \"#FFA15A\", \"#19d3f3\", \"#FF6692\", \"#B6E880\", \"#FF97FF\", \"#FECB52\"], \"font\": {\"color\": \"#2a3f5f\"}, \"geo\": {\"bgcolor\": \"white\", \"lakecolor\": \"white\", \"landcolor\": \"#E5ECF6\", \"showlakes\": true, \"showland\": true, \"subunitcolor\": \"white\"}, \"hoverlabel\": {\"align\": \"left\"}, \"hovermode\": \"closest\", \"mapbox\": {\"style\": \"light\"}, \"paper_bgcolor\": \"white\", \"plot_bgcolor\": \"#E5ECF6\", \"polar\": {\"angularaxis\": {\"gridcolor\": \"white\", \"linecolor\": \"white\", \"ticks\": \"\"}, \"bgcolor\": \"#E5ECF6\", \"radialaxis\": {\"gridcolor\": \"white\", \"linecolor\": \"white\", \"ticks\": \"\"}}, \"scene\": {\"xaxis\": {\"backgroundcolor\": \"#E5ECF6\", \"gridcolor\": \"white\", \"gridwidth\": 2, \"linecolor\": \"white\", \"showbackground\": true, \"ticks\": \"\", \"zerolinecolor\": \"white\"}, \"yaxis\": {\"backgroundcolor\": \"#E5ECF6\", \"gridcolor\": \"white\", \"gridwidth\": 2, \"linecolor\": \"white\", \"showbackground\": true, \"ticks\": \"\", \"zerolinecolor\": \"white\"}, \"zaxis\": {\"backgroundcolor\": \"#E5ECF6\", \"gridcolor\": \"white\", \"gridwidth\": 2, \"linecolor\": \"white\", \"showbackground\": true, \"ticks\": \"\", \"zerolinecolor\": \"white\"}}, \"shapedefaults\": {\"line\": {\"color\": \"#2a3f5f\"}}, \"ternary\": {\"aaxis\": {\"gridcolor\": \"white\", \"linecolor\": \"white\", \"ticks\": \"\"}, \"baxis\": {\"gridcolor\": \"white\", \"linecolor\": \"white\", \"ticks\": \"\"}, \"bgcolor\": \"#E5ECF6\", \"caxis\": {\"gridcolor\": \"white\", \"linecolor\": \"white\", \"ticks\": \"\"}}, \"title\": {\"x\": 0.05}, \"xaxis\": {\"automargin\": true, \"gridcolor\": \"white\", \"linecolor\": \"white\", \"ticks\": \"\", \"title\": {\"standoff\": 15}, \"zerolinecolor\": \"white\", \"zerolinewidth\": 2}, \"yaxis\": {\"automargin\": true, \"gridcolor\": \"white\", \"linecolor\": \"white\", \"ticks\": \"\", \"title\": {\"standoff\": 15}, \"zerolinecolor\": \"white\", \"zerolinewidth\": 2}}}},\n",
              "                        {\"responsive\": true}\n",
              "                    ).then(function(){\n",
              "                            \n",
              "var gd = document.getElementById('0080ecc0-2336-45d3-8138-49b0cb326cf0');\n",
              "var x = new MutationObserver(function (mutations, observer) {{\n",
              "        var display = window.getComputedStyle(gd).display;\n",
              "        if (!display || display === 'none') {{\n",
              "            console.log([gd, 'removed!']);\n",
              "            Plotly.purge(gd);\n",
              "            observer.disconnect();\n",
              "        }}\n",
              "}});\n",
              "\n",
              "// Listen for the removal of the full notebook cells\n",
              "var notebookContainer = gd.closest('#notebook-container');\n",
              "if (notebookContainer) {{\n",
              "    x.observe(notebookContainer, {childList: true});\n",
              "}}\n",
              "\n",
              "// Listen for the clearing of the current output cell\n",
              "var outputEl = gd.closest('.output');\n",
              "if (outputEl) {{\n",
              "    x.observe(outputEl, {childList: true});\n",
              "}}\n",
              "\n",
              "                        })\n",
              "                };\n",
              "                \n",
              "            </script>\n",
              "        </div>\n",
              "</body>\n",
              "</html>"
            ]
          },
          "metadata": {}
        }
      ]
    },
    {
      "cell_type": "markdown",
      "metadata": {
        "id": "BnBXeg3D1gDH"
      },
      "source": [
        "Método del método de la ruleta, para poder hacer la selección"
      ]
    },
    {
      "cell_type": "code",
      "metadata": {
        "id": "mQie-gXK1kq8"
      },
      "source": [
        "def roulette(population):\n",
        "  of=[fitnessFunct(s) for s in population]\n",
        "  probability=of/sum(of)\n",
        "  accumulatedProb=np.cumsum(probability)\n",
        "  return accumulatedProb"
      ],
      "execution_count": null,
      "outputs": []
    },
    {
      "cell_type": "code",
      "metadata": {
        "id": "c0exSY9B2Clg"
      },
      "source": [
        "accumulatedProb=roulette(population)"
      ],
      "execution_count": null,
      "outputs": []
    },
    {
      "cell_type": "code",
      "metadata": {
        "colab": {
          "base_uri": "https://localhost:8080/"
        },
        "id": "_ZkAY9ADjfV5",
        "outputId": "d672a1a3-ca0e-4f3a-d5e5-1235670a57c8"
      },
      "source": [
        "accumulatedProb"
      ],
      "execution_count": null,
      "outputs": [
        {
          "output_type": "execute_result",
          "data": {
            "text/plain": [
              "array([0.03278912, 0.07066819, 0.09830662, 0.11407886, 0.14609103,\n",
              "       0.16550262, 0.20352961, 0.24351728, 0.29868184, 0.32824007,\n",
              "       0.37186709, 0.4007076 , 0.42598609, 0.44539767, 0.49289599,\n",
              "       0.53288366, 0.5512322 , 0.57724698, 0.6081961 , 0.63961989,\n",
              "       0.69267584, 0.72409963, 0.77926419, 0.8267625 , 0.86972383,\n",
              "       0.89120162, 0.90097647, 0.94636618, 0.96107537, 1.        ])"
            ]
          },
          "metadata": {},
          "execution_count": 33
        }
      ]
    },
    {
      "cell_type": "code",
      "metadata": {
        "id": "yiwwa-Ts1-qB"
      },
      "source": [
        "def selection(population):\n",
        "  nr=np.random.uniform()\n",
        "  for i,p in enumerate(accumulatedProb):\n",
        "    if nr<p:\n",
        "      return i, population[i]"
      ],
      "execution_count": null,
      "outputs": []
    },
    {
      "cell_type": "code",
      "metadata": {
        "colab": {
          "base_uri": "https://localhost:8080/"
        },
        "id": "e6ed9g4s21_t",
        "outputId": "d78c64e3-6998-446e-8133-658bd5b84917"
      },
      "source": [
        "selection(population)"
      ],
      "execution_count": null,
      "outputs": [
        {
          "output_type": "execute_result",
          "data": {
            "text/plain": [
              "(18, array([0, 1, 0, 0, 1, 0, 0, 1, 0, 0]))"
            ]
          },
          "metadata": {},
          "execution_count": 47
        }
      ]
    },
    {
      "cell_type": "markdown",
      "metadata": {
        "id": "paSNCJRKFyrb"
      },
      "source": [
        "Aunque se puede usar también la función de numpy *np.random.choice* que selecciona de una lista bajo una probabilidad, o sea, el mismo sentido de selección por ruleta."
      ]
    },
    {
      "cell_type": "code",
      "metadata": {
        "colab": {
          "base_uri": "https://localhost:8080/"
        },
        "id": "lVBBXtz1F-sP",
        "outputId": "242c39db-3b8e-4868-e420-cdf53080bdaa"
      },
      "source": [
        "population=generateFirstPopulation(N,NP)\n",
        "of=[fitnessFunct(s) for s in population]\n",
        "probability=of/sum(of)\n",
        "indexPop=np.arange(len(population))\n",
        "np.random.choice(indexPop.tolist(),1,p=probability.tolist())"
      ],
      "execution_count": null,
      "outputs": [
        {
          "output_type": "execute_result",
          "data": {
            "text/plain": [
              "array([16])"
            ]
          },
          "metadata": {},
          "execution_count": 48
        }
      ]
    },
    {
      "cell_type": "markdown",
      "metadata": {
        "id": "M2bflob-BipP"
      },
      "source": [
        "### Cruce: Cruce de un punto (one point crossover)"
      ]
    },
    {
      "cell_type": "code",
      "metadata": {
        "colab": {
          "base_uri": "https://localhost:8080/"
        },
        "id": "cB9ki--plS3i",
        "outputId": "86b524f7-7613-46c2-a70e-94b135eb6e5d"
      },
      "source": [
        "len(population[0])"
      ],
      "execution_count": null,
      "outputs": [
        {
          "output_type": "execute_result",
          "data": {
            "text/plain": [
              "10"
            ]
          },
          "metadata": {},
          "execution_count": 51
        }
      ]
    },
    {
      "cell_type": "code",
      "metadata": {
        "colab": {
          "base_uri": "https://localhost:8080/"
        },
        "id": "6_RJ7YsKDiwb",
        "outputId": "d6fabf44-c986-40e3-f2dd-7eab7b2d31e3"
      },
      "source": [
        "## Generar punto de corte\n",
        "cp=np.random.randint(1,len(population[0])-1)\n",
        "cp"
      ],
      "execution_count": null,
      "outputs": [
        {
          "output_type": "execute_result",
          "data": {
            "text/plain": [
              "2"
            ]
          },
          "metadata": {},
          "execution_count": 56
        }
      ]
    },
    {
      "cell_type": "code",
      "metadata": {
        "colab": {
          "base_uri": "https://localhost:8080/"
        },
        "id": "rRG68XdkEa-I",
        "outputId": "50df1958-3e2a-49b6-fc71-53924759e89a"
      },
      "source": [
        "print(population[0])\n",
        "print(population[1])"
      ],
      "execution_count": null,
      "outputs": [
        {
          "output_type": "stream",
          "name": "stdout",
          "text": [
            "[1 1 0 0 0 1 1 0 0 0]\n",
            "[0 0 1 0 0 0 0 0 0 0]\n"
          ]
        }
      ]
    },
    {
      "cell_type": "code",
      "metadata": {
        "colab": {
          "base_uri": "https://localhost:8080/"
        },
        "id": "fJUV9kxsEVxA",
        "outputId": "f55d4208-d92c-4da3-ef98-ac044d7e9266"
      },
      "source": [
        "child1=np.concatenate((population[0][0:cp],population[1][cp:len(population[1])]), axis=0)\n",
        "child1"
      ],
      "execution_count": null,
      "outputs": [
        {
          "output_type": "execute_result",
          "data": {
            "text/plain": [
              "array([1, 1, 1, 0, 0, 0, 0, 0, 0, 0])"
            ]
          },
          "metadata": {},
          "execution_count": 58
        }
      ]
    },
    {
      "cell_type": "code",
      "metadata": {
        "id": "8Ev5-YwxC40J"
      },
      "source": [
        "def crossover(ind1, ind2):\n",
        "  cp=np.random.randint(1,len(sp[0])-1)\n",
        "  ## Create new children\n",
        "  child1=np.concatenate((ind1[0:cp],ind2[cp:len(ind2)]))\n",
        "  child2=np.concatenate((ind2[0:cp],ind1[cp:len(ind1)]))\n",
        "  return child1,child2"
      ],
      "execution_count": null,
      "outputs": []
    },
    {
      "cell_type": "code",
      "metadata": {
        "colab": {
          "base_uri": "https://localhost:8080/"
        },
        "id": "jF89SyCHGWXQ",
        "outputId": "73d6ca86-fbd3-4897-d076-cbae55e80bf8"
      },
      "source": [
        "ind1=selection(population)[1]\n",
        "ind2=selection(population)[1]\n",
        "print(ind1)\n",
        "print(ind2)"
      ],
      "execution_count": null,
      "outputs": [
        {
          "output_type": "stream",
          "name": "stdout",
          "text": [
            "[0 0 1 0 0 0 0 0 0 0]\n",
            "[0 0 1 0 0 0 1 1 0 0]\n"
          ]
        }
      ]
    },
    {
      "cell_type": "code",
      "metadata": {
        "colab": {
          "base_uri": "https://localhost:8080/"
        },
        "id": "MmoJ4H4CGwMI",
        "outputId": "80526c2c-aeef-4dec-d002-0087b6b55fd8"
      },
      "source": [
        "crossover(ind1,ind2)"
      ],
      "execution_count": null,
      "outputs": [
        {
          "output_type": "execute_result",
          "data": {
            "text/plain": [
              "(array([0, 0, 1, 0, 0, 0, 1, 1, 0, 0]), array([0, 0, 1, 0, 0, 0, 0, 0, 0, 0]))"
            ]
          },
          "metadata": {},
          "execution_count": 60
        }
      ]
    },
    {
      "cell_type": "markdown",
      "metadata": {
        "id": "0kxDh5ZOBgS4"
      },
      "source": [
        "### Mutación: Mutación de un bit"
      ]
    },
    {
      "cell_type": "code",
      "metadata": {
        "colab": {
          "base_uri": "https://localhost:8080/"
        },
        "id": "Ykn0P_-YIL-h",
        "outputId": "bf0ab062-ef3e-478f-b484-a26bc5c7d723"
      },
      "source": [
        "cp=np.random.randint(0,len(population[0])-1)\n",
        "print(cp)\n",
        "ind=population[0]\n",
        "print(ind)\n",
        "child=np.copy(ind)\n",
        "child[cp]=not child[cp]\n",
        "print(child)"
      ],
      "execution_count": null,
      "outputs": [
        {
          "output_type": "stream",
          "name": "stdout",
          "text": [
            "3\n",
            "[1 1 0 0 0 1 1 0 0 0]\n",
            "[1 1 0 1 0 1 1 0 0 0]\n"
          ]
        }
      ]
    },
    {
      "cell_type": "code",
      "metadata": {
        "id": "u2Pq1hEuDC-Y"
      },
      "source": [
        "def mutate(ind):\n",
        "  cp=np.random.randint(0,len(sp[0])-1)\n",
        "  child=np.copy(ind)\n",
        "  child[cp]=not child[cp]\n",
        "  return child"
      ],
      "execution_count": null,
      "outputs": []
    },
    {
      "cell_type": "markdown",
      "metadata": {
        "id": "gisUrsmSKDDw"
      },
      "source": [
        "## Método de algoritmo genético"
      ]
    },
    {
      "cell_type": "markdown",
      "metadata": {
        "id": "XcxiSVEUL9W-"
      },
      "source": [
        "Este algoritmo genético parará en un número de generaciones determinado, se guardará el mejor individuo de cada población y se devolverá el mejor de todos."
      ]
    },
    {
      "cell_type": "code",
      "metadata": {
        "id": "3c6RJI6k49Lx"
      },
      "source": [
        "#@title Introduzca la cantidad de generaciones para el algoritmo\n",
        "generations = 300 #@param {type:\"integer\"}"
      ],
      "execution_count": null,
      "outputs": []
    },
    {
      "cell_type": "code",
      "metadata": {
        "id": "xVu429mwNdP_"
      },
      "source": [
        "#@title Texto de título predeterminado\n",
        "mutation_probability = 0.1 #@param {type:\"number\"}\n",
        "crossover_probability = 0.9 #@param {type:\"number\"}\n"
      ],
      "execution_count": null,
      "outputs": []
    },
    {
      "cell_type": "code",
      "metadata": {
        "id": "_sZN007KKFxI"
      },
      "source": [
        "def geneticAlgorithm(sizeIndividual, sizePopulation, generations, mutation_probability, crossover_probability):\n",
        "  population=generateFirstPopulation(sizeIndividual, sizePopulation)\n",
        "  accumulatedProb=roulette(population)\n",
        "  print(population)\n",
        "  of=[fitnessFunct(s) for s in population]\n",
        "  sorted_population=sorted(population,key=fitnessFunct,reverse=True)\n",
        "  bestIndividual=[sorted_population[0]] # Lista de los mejores cromosomas\n",
        "  for i in range(generations):\n",
        "    #Generar la nueva población\n",
        "    nextPopulation=[]\n",
        "    count=0\n",
        "    while True: # para crear la población cuando tengamos NP individuos\n",
        "      # Hacemos selección de dos individuos y cruce si es posible\n",
        "      ind1=selection(population)[1]\n",
        "      ind2=selection(population)[1]\n",
        "      crossProb=nr=np.random.uniform()\n",
        "      if crossProb<crossover_probability:\n",
        "        child1,child2=crossover(ind1,ind2)\n",
        "        if valid(child1):\n",
        "          nextPopulation.append(child1)\n",
        "        if valid(child2):\n",
        "          nextPopulation.append(child2)\n",
        "      else:\n",
        "        nextPopulation.append(ind1)\n",
        "        nextPopulation.append(ind2)\n",
        "      # Hacemos selección de un individuo y mutación si es posible\n",
        "      mutProb=nr=np.random.uniform()\n",
        "      ind=selection(population)[1]\n",
        "      if mutProb<mutation_probability:\n",
        "        child=mutate(ind)\n",
        "        if valid(child):\n",
        "          nextPopulation.append(child)\n",
        "      else:\n",
        "        nextPopulation.append(ind)\n",
        "      if len(nextPopulation)>=sizePopulation:\n",
        "        nextPopulation=nextPopulation[0:sizePopulation]\n",
        "        break;\n",
        "    \n",
        "    accumulatedProb=roulette(nextPopulation)\n",
        "    sorted_population=sorted(nextPopulation,key=fitnessFunct,reverse=True)\n",
        "    bestIndividual.append(sorted_population[0]) \n",
        "    population=nextPopulation\n",
        "  sortedBest=sorted(bestIndividual,key=fitnessFunct,reverse=True) \n",
        "  return bestIndividual,sortedBest[0]\n"
      ],
      "execution_count": null,
      "outputs": []
    },
    {
      "cell_type": "code",
      "metadata": {
        "colab": {
          "base_uri": "https://localhost:8080/"
        },
        "id": "lKZ-Iy9dRRt4",
        "outputId": "cf9071d6-6aa1-48bd-8bfd-f1470fbf1a5d"
      },
      "source": [
        "sizeIndividual=N\n",
        "sizePopulation=NP\n",
        "bestList,bestInd=geneticAlgorithm(sizeIndividual, sizePopulation, generations, mutation_probability, crossover_probability)\n",
        "bestInd"
      ],
      "execution_count": null,
      "outputs": [
        {
          "output_type": "stream",
          "name": "stdout",
          "text": [
            "[array([1, 0, 1, 0, 1, 0, 0, 0, 0, 0]), array([1, 0, 0, 0, 0, 0, 0, 0, 0, 1]), array([0, 0, 1, 0, 0, 0, 1, 0, 0, 0]), array([0, 0, 0, 0, 0, 0, 1, 1, 0, 0]), array([0, 1, 0, 0, 1, 0, 0, 1, 0, 0]), array([1, 0, 0, 0, 0, 1, 0, 0, 0, 0]), array([1, 0, 0, 0, 0, 1, 0, 0, 0, 0]), array([1, 0, 0, 0, 1, 1, 0, 1, 0, 0]), array([1, 0, 0, 0, 1, 1, 0, 0, 0, 0]), array([0, 0, 0, 0, 0, 0, 0, 0, 1, 0]), array([0, 0, 1, 0, 0, 1, 0, 1, 0, 0]), array([0, 0, 1, 0, 0, 1, 0, 0, 0, 0]), array([0, 1, 0, 0, 1, 0, 0, 0, 0, 0]), array([1, 1, 0, 0, 0, 1, 0, 0, 0, 0]), array([0, 0, 1, 0, 0, 0, 1, 0, 0, 0]), array([0, 0, 0, 0, 0, 0, 0, 1, 1, 0]), array([0, 1, 0, 0, 0, 0, 1, 1, 0, 0]), array([0, 0, 1, 0, 0, 0, 1, 1, 0, 0]), array([0, 0, 0, 0, 1, 0, 0, 1, 0, 0]), array([0, 1, 0, 0, 0, 1, 1, 0, 0, 0]), array([1, 0, 0, 0, 0, 0, 1, 1, 0, 0]), array([0, 1, 0, 0, 1, 1, 0, 0, 0, 0]), array([1, 0, 1, 0, 0, 1, 0, 0, 0, 0]), array([1, 1, 0, 0, 0, 1, 1, 0, 0, 0]), array([0, 0, 0, 0, 0, 1, 1, 0, 0, 0]), array([0, 1, 0, 0, 0, 1, 1, 0, 0, 0]), array([1, 0, 1, 0, 0, 1, 0, 0, 0, 0]), array([0, 1, 0, 0, 1, 0, 1, 0, 0, 0]), array([0, 0, 0, 0, 1, 1, 1, 1, 0, 0]), array([0, 0, 0, 0, 0, 0, 1, 1, 0, 0])]\n"
          ]
        },
        {
          "output_type": "execute_result",
          "data": {
            "text/plain": [
              "array([1, 1, 0, 0, 1, 1, 0, 1, 0, 0])"
            ]
          },
          "metadata": {},
          "execution_count": 66
        }
      ]
    },
    {
      "cell_type": "code",
      "metadata": {
        "colab": {
          "base_uri": "https://localhost:8080/"
        },
        "id": "JV7SnHvBpk3-",
        "outputId": "c6414b00-2bc5-4a1e-cbcc-11657442f85e"
      },
      "source": [
        "bestInd"
      ],
      "execution_count": null,
      "outputs": [
        {
          "output_type": "execute_result",
          "data": {
            "text/plain": [
              "array([1, 1, 0, 0, 1, 1, 0, 1, 0, 0])"
            ]
          },
          "metadata": {},
          "execution_count": 67
        }
      ]
    },
    {
      "cell_type": "code",
      "metadata": {
        "colab": {
          "base_uri": "https://localhost:8080/"
        },
        "id": "sklX-MJJpzTr",
        "outputId": "c0fe035f-513e-4920-b800-e949db6ab675"
      },
      "source": [
        "sum(bestInd*prices)"
      ],
      "execution_count": null,
      "outputs": [
        {
          "output_type": "execute_result",
          "data": {
            "text/plain": [
              "329.3848542329946"
            ]
          },
          "metadata": {},
          "execution_count": 69
        }
      ]
    },
    {
      "cell_type": "code",
      "metadata": {
        "colab": {
          "base_uri": "https://localhost:8080/"
        },
        "id": "tzQNX9nZp4yp",
        "outputId": "8b1904cc-896a-44ab-b3f7-19df6bfdc729"
      },
      "source": [
        "sum(bestInd*weights)"
      ],
      "execution_count": null,
      "outputs": [
        {
          "output_type": "execute_result",
          "data": {
            "text/plain": [
              "14.859364970278252"
            ]
          },
          "metadata": {},
          "execution_count": 70
        }
      ]
    },
    {
      "cell_type": "code",
      "metadata": {
        "colab": {
          "base_uri": "https://localhost:8080/",
          "height": 542
        },
        "id": "YB1z613J-BM8",
        "outputId": "e1b36f1a-4aaf-455d-a423-f7a725511be2"
      },
      "source": [
        "iteration=np.arange(0,len(bestList))\n",
        "fitnessValue=[fitnessFunct(x) for x in bestList]\n",
        "df = pd.DataFrame(list(zip(iteration,fitnessValue)),\n",
        "               columns =['iteration', 'fitness'])\n",
        "fig = px.line(df, x=\"iteration\", y=\"fitness\")\n",
        "fig.show()"
      ],
      "execution_count": null,
      "outputs": [
        {
          "output_type": "display_data",
          "data": {
            "text/html": [
              "<html>\n",
              "<head><meta charset=\"utf-8\" /></head>\n",
              "<body>\n",
              "    <div>\n",
              "            <script src=\"https://cdnjs.cloudflare.com/ajax/libs/mathjax/2.7.5/MathJax.js?config=TeX-AMS-MML_SVG\"></script><script type=\"text/javascript\">if (window.MathJax) {MathJax.Hub.Config({SVG: {font: \"STIX-Web\"}});}</script>\n",
              "                <script type=\"text/javascript\">window.PlotlyConfig = {MathJaxConfig: 'local'};</script>\n",
              "        <script src=\"https://cdn.plot.ly/plotly-latest.min.js\"></script>    \n",
              "            <div id=\"4a1e5100-ce7a-4eb9-8e8a-cc08b1b80bb4\" class=\"plotly-graph-div\" style=\"height:525px; width:100%;\"></div>\n",
              "            <script type=\"text/javascript\">\n",
              "                \n",
              "                    window.PLOTLYENV=window.PLOTLYENV || {};\n",
              "                    \n",
              "                if (document.getElementById(\"4a1e5100-ce7a-4eb9-8e8a-cc08b1b80bb4\")) {\n",
              "                    Plotly.newPlot(\n",
              "                        '4a1e5100-ce7a-4eb9-8e8a-cc08b1b80bb4',\n",
              "                        [{\"hoverlabel\": {\"namelength\": 0}, \"hovertemplate\": \"iteration=%{x}<br>fitness=%{y}\", \"legendgroup\": \"\", \"line\": {\"color\": \"#636efa\", \"dash\": \"solid\"}, \"mode\": \"lines\", \"name\": \"\", \"showlegend\": false, \"type\": \"scatter\", \"x\": [0, 1, 2, 3, 4, 5, 6, 7, 8, 9, 10, 11, 12, 13, 14, 15, 16, 17, 18, 19, 20, 21, 22, 23, 24, 25, 26, 27, 28, 29, 30, 31, 32, 33, 34, 35, 36, 37, 38, 39, 40, 41, 42, 43, 44, 45, 46, 47, 48, 49, 50, 51, 52, 53, 54, 55, 56, 57, 58, 59, 60, 61, 62, 63, 64, 65, 66, 67, 68, 69, 70, 71, 72, 73, 74, 75, 76, 77, 78, 79, 80, 81, 82, 83, 84, 85, 86, 87, 88, 89, 90, 91, 92, 93, 94, 95, 96, 97, 98, 99, 100, 101, 102, 103, 104, 105, 106, 107, 108, 109, 110, 111, 112, 113, 114, 115, 116, 117, 118, 119, 120, 121, 122, 123, 124, 125, 126, 127, 128, 129, 130, 131, 132, 133, 134, 135, 136, 137, 138, 139, 140, 141, 142, 143, 144, 145, 146, 147, 148, 149, 150, 151, 152, 153, 154, 155, 156, 157, 158, 159, 160, 161, 162, 163, 164, 165, 166, 167, 168, 169, 170, 171, 172, 173, 174, 175, 176, 177, 178, 179, 180, 181, 182, 183, 184, 185, 186, 187, 188, 189, 190, 191, 192, 193, 194, 195, 196, 197, 198, 199, 200, 201, 202, 203, 204, 205, 206, 207, 208, 209, 210, 211, 212, 213, 214, 215, 216, 217, 218, 219, 220, 221, 222, 223, 224, 225, 226, 227, 228, 229, 230, 231, 232, 233, 234, 235, 236, 237, 238, 239, 240, 241, 242, 243, 244, 245, 246, 247, 248, 249, 250, 251, 252, 253, 254, 255, 256, 257, 258, 259, 260, 261, 262, 263, 264, 265, 266, 267, 268, 269, 270, 271, 272, 273, 274, 275, 276, 277, 278, 279, 280, 281, 282, 283, 284, 285, 286, 287, 288, 289, 290, 291, 292, 293, 294, 295, 296, 297, 298, 299, 300], \"xaxis\": \"x\", \"y\": [256.5199829168766, 271.0197062955172, 283.6101056935281, 289.9575164288436, 289.9575164288436, 226.1740481446867, 202.12964979521843, 191.14309479455306, 191.14309479455306, 161.6803760984053, 184.7956840592376, 184.7956840592376, 184.7956840592376, 184.7956840592376, 178.55269539654216, 178.55269539654216, 155.33296536308984, 155.33296536308984, 230.5704325987041, 101.4059041802982, 101.4059041802982, 101.4059041802982, 115.90562755893883, 115.90562755893883, 115.90562755893883, 115.90562755893883, 115.90562755893883, 18.937810133326366, 18.937810133326366, 115.90562755893883, 115.90562755893883, 115.90562755893883, 103.31522816092793, 115.90562755893883, 101.4059041802982, 101.4059041802982, 101.4059041802982, 101.4059041802982, 117.75223176761688, 18.937810133326366, 101.4059041802982, 18.937810133326366, 18.937810133326366, 115.90562755893883, 117.75223176761688, 117.75223176761688, 117.75223176761688, 94.17527736894061, 117.75223176761688, 101.4059041802982, 101.4059041802982, 101.4059041802982, 101.4059041802982, 115.90562755893883, 101.4059041802982, 101.4059041802982, 18.937810133326366, 101.4059041802982, 94.17527736894061, 94.17527736894061, 115.90562755893883, 115.90562755893883, 64.71255867279285, 161.6803760984053, 64.71255867279285, 117.75223176761688, 117.75223176761688, 117.75223176761688, 117.75223176761688, 117.75223176761688, 192.98969900323112, 192.98969900323112, 192.98969900323112, 192.98969900323112, 192.98969900323112, 192.98969900323112, 192.98969900323112, 192.98969900323112, 192.98969900323112, 192.98969900323112, 192.98969900323112, 289.9575164288436, 289.9575164288436, 289.9575164288436, 192.98969900323112, 192.98969900323112, 192.98969900323112, 192.98969900323112, 94.17527736894061, 94.17527736894061, 139.9500259084071, 139.9500259084071, 139.9500259084071, 139.9500259084071, 139.9500259084071, 186.64228826791566, 192.98969900323112, 289.9575164288436, 192.98969900323112, 192.98969900323112, 192.98969900323112, 192.98969900323112, 192.98969900323112, 192.98969900323112, 192.98969900323112, 192.98969900323112, 192.98969900323112, 191.14309479455306, 191.14309479455306, 184.7956840592376, 191.14309479455306, 191.14309479455306, 191.14309479455306, 191.14309479455306, 191.14309479455306, 191.14309479455306, 191.14309479455306, 191.14309479455306, 191.14309479455306, 191.14309479455306, 184.7956840592376, 184.7956840592376, 230.5704325987041, 230.5704325987041, 230.5704325987041, 230.5704325987041, 230.5704325987041, 191.14309479455306, 191.14309479455306, 184.7956840592376, 230.5704325987041, 191.14309479455306, 191.14309479455306, 191.14309479455306, 191.14309479455306, 191.14309479455306, 191.14309479455306, 230.5704325987041, 230.5704325987041, 230.5704325987041, 283.6101056935281, 230.5704325987041, 230.5704325987041, 230.5704325987041, 230.5704325987041, 230.5704325987041, 230.5704325987041, 230.5704325987041, 230.5704325987041, 230.5704325987041, 230.5704325987041, 230.5704325987041, 329.3848542329946, 230.5704325987041, 230.5704325987041, 230.5704325987041, 230.5704325987041, 230.5704325987041, 230.5704325987041, 230.5704325987041, 230.5704325987041, 283.6101056935281, 230.5704325987041, 230.5704325987041, 230.5704325987041, 230.5704325987041, 329.3848542329946, 329.3848542329946, 329.3848542329946, 329.3848542329946, 329.3848542329946, 329.3848542329946, 329.3848542329946, 329.3848542329946, 329.3848542329946, 329.3848542329946, 329.3848542329946, 329.3848542329946, 329.3848542329946, 329.3848542329946, 329.3848542329946, 316.7944548349837, 316.7944548349837, 316.7944548349837, 316.7944548349837, 329.3848542329946, 329.3848542329946, 329.3848542329946, 329.3848542329946, 316.7944548349837, 316.7944548349837, 316.7944548349837, 217.98003320069319, 217.98003320069319, 217.98003320069319, 217.98003320069319, 217.98003320069319, 217.98003320069319, 217.98003320069319, 217.98003320069319, 217.98003320069319, 217.98003320069319, 217.98003320069319, 316.7944548349837, 316.7944548349837, 316.7944548349837, 217.98003320069319, 217.98003320069319, 217.98003320069319, 217.98003320069319, 217.98003320069319, 217.98003320069319, 271.0197062955172, 217.98003320069319, 217.98003320069319, 217.98003320069319, 217.98003320069319, 217.98003320069319, 217.98003320069319, 217.98003320069319, 217.98003320069319, 316.7944548349837, 271.0197062955172, 217.98003320069319, 217.98003320069319, 217.98003320069319, 217.98003320069319, 217.98003320069319, 217.98003320069319, 217.98003320069319, 316.7944548349837, 316.7944548349837, 316.7944548349837, 316.7944548349837, 241.55698759936945, 241.55698759936945, 316.7944548349837, 316.7944548349837, 316.7944548349837, 241.55698759936945, 241.55698759936945, 219.82663740937124, 219.82663740937124, 219.82663740937124, 219.82663740937124, 219.82663740937124, 219.82663740937124, 219.82663740937124, 219.82663740937124, 219.82663740937124, 219.82663740937124, 316.7944548349837, 316.7944548349837, 316.7944548349837, 316.7944548349837, 316.7944548349837, 316.7944548349837, 316.7944548349837, 316.7944548349837, 316.7944548349837, 316.7944548349837, 316.7944548349837, 316.7944548349837, 316.7944548349837, 316.7944548349837, 316.7944548349837, 316.7944548349837, 316.7944548349837, 316.7944548349837, 316.7944548349837, 316.7944548349837, 316.7944548349837, 316.7944548349837, 329.3848542329946, 316.7944548349837, 316.7944548349837, 316.7944548349837, 316.7944548349837, 316.7944548349837, 316.7944548349837, 316.7944548349837, 316.7944548349837, 316.7944548349837, 316.7944548349837, 316.7944548349837, 316.7944548349837, 316.7944548349837, 316.7944548349837, 316.7944548349837, 316.7944548349837, 316.7944548349837, 316.7944548349837, 271.0197062955172, 316.7944548349837, 316.7944548349837, 271.0197062955172, 271.0197062955172, 271.0197062955172, 271.0197062955172, 271.0197062955172, 316.7944548349837], \"yaxis\": \"y\"}],\n",
              "                        {\"legend\": {\"tracegroupgap\": 0}, \"margin\": {\"t\": 60}, \"template\": {\"data\": {\"bar\": [{\"error_x\": {\"color\": \"#2a3f5f\"}, \"error_y\": {\"color\": \"#2a3f5f\"}, \"marker\": {\"line\": {\"color\": \"#E5ECF6\", \"width\": 0.5}}, \"type\": \"bar\"}], \"barpolar\": [{\"marker\": {\"line\": {\"color\": \"#E5ECF6\", \"width\": 0.5}}, \"type\": \"barpolar\"}], \"carpet\": [{\"aaxis\": {\"endlinecolor\": \"#2a3f5f\", \"gridcolor\": \"white\", \"linecolor\": \"white\", \"minorgridcolor\": \"white\", \"startlinecolor\": \"#2a3f5f\"}, \"baxis\": {\"endlinecolor\": \"#2a3f5f\", \"gridcolor\": \"white\", \"linecolor\": \"white\", \"minorgridcolor\": \"white\", \"startlinecolor\": \"#2a3f5f\"}, \"type\": \"carpet\"}], \"choropleth\": [{\"colorbar\": {\"outlinewidth\": 0, \"ticks\": \"\"}, \"type\": \"choropleth\"}], \"contour\": [{\"colorbar\": {\"outlinewidth\": 0, \"ticks\": \"\"}, \"colorscale\": [[0.0, \"#0d0887\"], [0.1111111111111111, \"#46039f\"], [0.2222222222222222, \"#7201a8\"], [0.3333333333333333, \"#9c179e\"], [0.4444444444444444, \"#bd3786\"], [0.5555555555555556, \"#d8576b\"], [0.6666666666666666, \"#ed7953\"], [0.7777777777777778, \"#fb9f3a\"], [0.8888888888888888, \"#fdca26\"], [1.0, \"#f0f921\"]], \"type\": \"contour\"}], \"contourcarpet\": [{\"colorbar\": {\"outlinewidth\": 0, \"ticks\": \"\"}, \"type\": \"contourcarpet\"}], \"heatmap\": [{\"colorbar\": {\"outlinewidth\": 0, \"ticks\": \"\"}, \"colorscale\": [[0.0, \"#0d0887\"], [0.1111111111111111, \"#46039f\"], [0.2222222222222222, \"#7201a8\"], [0.3333333333333333, \"#9c179e\"], [0.4444444444444444, \"#bd3786\"], [0.5555555555555556, \"#d8576b\"], [0.6666666666666666, \"#ed7953\"], [0.7777777777777778, \"#fb9f3a\"], [0.8888888888888888, \"#fdca26\"], [1.0, \"#f0f921\"]], \"type\": \"heatmap\"}], \"heatmapgl\": [{\"colorbar\": {\"outlinewidth\": 0, \"ticks\": \"\"}, \"colorscale\": [[0.0, \"#0d0887\"], [0.1111111111111111, \"#46039f\"], [0.2222222222222222, \"#7201a8\"], [0.3333333333333333, \"#9c179e\"], [0.4444444444444444, \"#bd3786\"], [0.5555555555555556, \"#d8576b\"], [0.6666666666666666, \"#ed7953\"], [0.7777777777777778, \"#fb9f3a\"], [0.8888888888888888, \"#fdca26\"], [1.0, \"#f0f921\"]], \"type\": \"heatmapgl\"}], \"histogram\": [{\"marker\": {\"colorbar\": {\"outlinewidth\": 0, \"ticks\": \"\"}}, \"type\": \"histogram\"}], \"histogram2d\": [{\"colorbar\": {\"outlinewidth\": 0, \"ticks\": \"\"}, \"colorscale\": [[0.0, \"#0d0887\"], [0.1111111111111111, \"#46039f\"], [0.2222222222222222, \"#7201a8\"], [0.3333333333333333, \"#9c179e\"], [0.4444444444444444, \"#bd3786\"], [0.5555555555555556, \"#d8576b\"], [0.6666666666666666, \"#ed7953\"], [0.7777777777777778, \"#fb9f3a\"], [0.8888888888888888, \"#fdca26\"], [1.0, \"#f0f921\"]], \"type\": \"histogram2d\"}], \"histogram2dcontour\": [{\"colorbar\": {\"outlinewidth\": 0, \"ticks\": \"\"}, \"colorscale\": [[0.0, \"#0d0887\"], [0.1111111111111111, \"#46039f\"], [0.2222222222222222, \"#7201a8\"], [0.3333333333333333, \"#9c179e\"], [0.4444444444444444, \"#bd3786\"], [0.5555555555555556, \"#d8576b\"], [0.6666666666666666, \"#ed7953\"], [0.7777777777777778, \"#fb9f3a\"], [0.8888888888888888, \"#fdca26\"], [1.0, \"#f0f921\"]], \"type\": \"histogram2dcontour\"}], \"mesh3d\": [{\"colorbar\": {\"outlinewidth\": 0, \"ticks\": \"\"}, \"type\": \"mesh3d\"}], \"parcoords\": [{\"line\": {\"colorbar\": {\"outlinewidth\": 0, \"ticks\": \"\"}}, \"type\": \"parcoords\"}], \"pie\": [{\"automargin\": true, \"type\": \"pie\"}], \"scatter\": [{\"marker\": {\"colorbar\": {\"outlinewidth\": 0, \"ticks\": \"\"}}, \"type\": \"scatter\"}], \"scatter3d\": [{\"line\": {\"colorbar\": {\"outlinewidth\": 0, \"ticks\": \"\"}}, \"marker\": {\"colorbar\": {\"outlinewidth\": 0, \"ticks\": \"\"}}, \"type\": \"scatter3d\"}], \"scattercarpet\": [{\"marker\": {\"colorbar\": {\"outlinewidth\": 0, \"ticks\": \"\"}}, \"type\": \"scattercarpet\"}], \"scattergeo\": [{\"marker\": {\"colorbar\": {\"outlinewidth\": 0, \"ticks\": \"\"}}, \"type\": \"scattergeo\"}], \"scattergl\": [{\"marker\": {\"colorbar\": {\"outlinewidth\": 0, \"ticks\": \"\"}}, \"type\": \"scattergl\"}], \"scattermapbox\": [{\"marker\": {\"colorbar\": {\"outlinewidth\": 0, \"ticks\": \"\"}}, \"type\": \"scattermapbox\"}], \"scatterpolar\": [{\"marker\": {\"colorbar\": {\"outlinewidth\": 0, \"ticks\": \"\"}}, \"type\": \"scatterpolar\"}], \"scatterpolargl\": [{\"marker\": {\"colorbar\": {\"outlinewidth\": 0, \"ticks\": \"\"}}, \"type\": \"scatterpolargl\"}], \"scatterternary\": [{\"marker\": {\"colorbar\": {\"outlinewidth\": 0, \"ticks\": \"\"}}, \"type\": \"scatterternary\"}], \"surface\": [{\"colorbar\": {\"outlinewidth\": 0, \"ticks\": \"\"}, \"colorscale\": [[0.0, \"#0d0887\"], [0.1111111111111111, \"#46039f\"], [0.2222222222222222, \"#7201a8\"], [0.3333333333333333, \"#9c179e\"], [0.4444444444444444, \"#bd3786\"], [0.5555555555555556, \"#d8576b\"], [0.6666666666666666, \"#ed7953\"], [0.7777777777777778, \"#fb9f3a\"], [0.8888888888888888, \"#fdca26\"], [1.0, \"#f0f921\"]], \"type\": \"surface\"}], \"table\": [{\"cells\": {\"fill\": {\"color\": \"#EBF0F8\"}, \"line\": {\"color\": \"white\"}}, \"header\": {\"fill\": {\"color\": \"#C8D4E3\"}, \"line\": {\"color\": \"white\"}}, \"type\": \"table\"}]}, \"layout\": {\"annotationdefaults\": {\"arrowcolor\": \"#2a3f5f\", \"arrowhead\": 0, \"arrowwidth\": 1}, \"coloraxis\": {\"colorbar\": {\"outlinewidth\": 0, \"ticks\": \"\"}}, \"colorscale\": {\"diverging\": [[0, \"#8e0152\"], [0.1, \"#c51b7d\"], [0.2, \"#de77ae\"], [0.3, \"#f1b6da\"], [0.4, \"#fde0ef\"], [0.5, \"#f7f7f7\"], [0.6, \"#e6f5d0\"], [0.7, \"#b8e186\"], [0.8, \"#7fbc41\"], [0.9, \"#4d9221\"], [1, \"#276419\"]], \"sequential\": [[0.0, \"#0d0887\"], [0.1111111111111111, \"#46039f\"], [0.2222222222222222, \"#7201a8\"], [0.3333333333333333, \"#9c179e\"], [0.4444444444444444, \"#bd3786\"], [0.5555555555555556, \"#d8576b\"], [0.6666666666666666, \"#ed7953\"], [0.7777777777777778, \"#fb9f3a\"], [0.8888888888888888, \"#fdca26\"], [1.0, \"#f0f921\"]], \"sequentialminus\": [[0.0, \"#0d0887\"], [0.1111111111111111, \"#46039f\"], [0.2222222222222222, \"#7201a8\"], [0.3333333333333333, \"#9c179e\"], [0.4444444444444444, \"#bd3786\"], [0.5555555555555556, \"#d8576b\"], [0.6666666666666666, \"#ed7953\"], [0.7777777777777778, \"#fb9f3a\"], [0.8888888888888888, \"#fdca26\"], [1.0, \"#f0f921\"]]}, \"colorway\": [\"#636efa\", \"#EF553B\", \"#00cc96\", \"#ab63fa\", \"#FFA15A\", \"#19d3f3\", \"#FF6692\", \"#B6E880\", \"#FF97FF\", \"#FECB52\"], \"font\": {\"color\": \"#2a3f5f\"}, \"geo\": {\"bgcolor\": \"white\", \"lakecolor\": \"white\", \"landcolor\": \"#E5ECF6\", \"showlakes\": true, \"showland\": true, \"subunitcolor\": \"white\"}, \"hoverlabel\": {\"align\": \"left\"}, \"hovermode\": \"closest\", \"mapbox\": {\"style\": \"light\"}, \"paper_bgcolor\": \"white\", \"plot_bgcolor\": \"#E5ECF6\", \"polar\": {\"angularaxis\": {\"gridcolor\": \"white\", \"linecolor\": \"white\", \"ticks\": \"\"}, \"bgcolor\": \"#E5ECF6\", \"radialaxis\": {\"gridcolor\": \"white\", \"linecolor\": \"white\", \"ticks\": \"\"}}, \"scene\": {\"xaxis\": {\"backgroundcolor\": \"#E5ECF6\", \"gridcolor\": \"white\", \"gridwidth\": 2, \"linecolor\": \"white\", \"showbackground\": true, \"ticks\": \"\", \"zerolinecolor\": \"white\"}, \"yaxis\": {\"backgroundcolor\": \"#E5ECF6\", \"gridcolor\": \"white\", \"gridwidth\": 2, \"linecolor\": \"white\", \"showbackground\": true, \"ticks\": \"\", \"zerolinecolor\": \"white\"}, \"zaxis\": {\"backgroundcolor\": \"#E5ECF6\", \"gridcolor\": \"white\", \"gridwidth\": 2, \"linecolor\": \"white\", \"showbackground\": true, \"ticks\": \"\", \"zerolinecolor\": \"white\"}}, \"shapedefaults\": {\"line\": {\"color\": \"#2a3f5f\"}}, \"ternary\": {\"aaxis\": {\"gridcolor\": \"white\", \"linecolor\": \"white\", \"ticks\": \"\"}, \"baxis\": {\"gridcolor\": \"white\", \"linecolor\": \"white\", \"ticks\": \"\"}, \"bgcolor\": \"#E5ECF6\", \"caxis\": {\"gridcolor\": \"white\", \"linecolor\": \"white\", \"ticks\": \"\"}}, \"title\": {\"x\": 0.05}, \"xaxis\": {\"automargin\": true, \"gridcolor\": \"white\", \"linecolor\": \"white\", \"ticks\": \"\", \"title\": {\"standoff\": 15}, \"zerolinecolor\": \"white\", \"zerolinewidth\": 2}, \"yaxis\": {\"automargin\": true, \"gridcolor\": \"white\", \"linecolor\": \"white\", \"ticks\": \"\", \"title\": {\"standoff\": 15}, \"zerolinecolor\": \"white\", \"zerolinewidth\": 2}}}, \"xaxis\": {\"anchor\": \"y\", \"domain\": [0.0, 1.0], \"title\": {\"text\": \"iteration\"}}, \"yaxis\": {\"anchor\": \"x\", \"domain\": [0.0, 1.0], \"title\": {\"text\": \"fitness\"}}},\n",
              "                        {\"responsive\": true}\n",
              "                    ).then(function(){\n",
              "                            \n",
              "var gd = document.getElementById('4a1e5100-ce7a-4eb9-8e8a-cc08b1b80bb4');\n",
              "var x = new MutationObserver(function (mutations, observer) {{\n",
              "        var display = window.getComputedStyle(gd).display;\n",
              "        if (!display || display === 'none') {{\n",
              "            console.log([gd, 'removed!']);\n",
              "            Plotly.purge(gd);\n",
              "            observer.disconnect();\n",
              "        }}\n",
              "}});\n",
              "\n",
              "// Listen for the removal of the full notebook cells\n",
              "var notebookContainer = gd.closest('#notebook-container');\n",
              "if (notebookContainer) {{\n",
              "    x.observe(notebookContainer, {childList: true});\n",
              "}}\n",
              "\n",
              "// Listen for the clearing of the current output cell\n",
              "var outputEl = gd.closest('.output');\n",
              "if (outputEl) {{\n",
              "    x.observe(outputEl, {childList: true});\n",
              "}}\n",
              "\n",
              "                        })\n",
              "                };\n",
              "                \n",
              "            </script>\n",
              "        </div>\n",
              "</body>\n",
              "</html>"
            ]
          },
          "metadata": {}
        }
      ]
    },
    {
      "cell_type": "code",
      "metadata": {
        "colab": {
          "base_uri": "https://localhost:8080/"
        },
        "id": "vMJOPFiERr-w",
        "outputId": "f118a653-8c1a-4cc6-96ca-25de3a9dc890"
      },
      "source": [
        "print(weights)\n",
        "print(prices)"
      ],
      "execution_count": null,
      "outputs": [
        {
          "output_type": "stream",
          "name": "stdout",
          "text": [
            "[ 1.59300234  6.27967442 10.14911665 13.6839355   2.90152515  3.20229804\n",
            "  2.76581133  0.88286502 13.07922603 12.92808265]\n",
            "[98.81442163 96.96781743 82.46809405 92.82542385 75.23746724 45.77474854\n",
            "  6.34741074 12.5903994  66.2133136  77.67633774]\n"
          ]
        }
      ]
    },
    {
      "cell_type": "code",
      "metadata": {
        "colab": {
          "base_uri": "https://localhost:8080/"
        },
        "id": "TXjQhPI7Rwth",
        "outputId": "c528d746-58cb-47c0-b85b-b3480c8092be"
      },
      "source": [
        "print(fitnessFunct([1, 0, 0, 0, 1, 0, 0, 0, 1, 1]))\n",
        "print(fitnessFunct(bestInd))\n"
      ],
      "execution_count": null,
      "outputs": [
        {
          "output_type": "stream",
          "name": "stdout",
          "text": [
            "0.1\n",
            "329.3848542329946\n"
          ]
        }
      ]
    },
    {
      "cell_type": "markdown",
      "metadata": {
        "id": "RC6vmFsKUyZu"
      },
      "source": [
        "## Clase agrupando todo los métodos anteriores, para generalizar para problemas con individuos binarios."
      ]
    },
    {
      "cell_type": "code",
      "metadata": {
        "id": "pAOUbpV8U7fv"
      },
      "source": [
        "class Genetic_Algorithm ():\n",
        "  def __init__(self, sizeIndividual, sizePopulation=100, generations=400, mutation_probability=0.1, crossover_probability=0.9):\n",
        "    self.sizeIndividual= sizeIndividual\n",
        "    self.sizePopulation = sizePopulation\n",
        "    self.generations = generations\n",
        "    self.mutation_probability=mutation_probability\n",
        "    self.crossover_probability=crossover_probability\n",
        "\n",
        "  def fitnessFunct(self,x):\n",
        "    #return sum(x*prices)\n",
        "    pass\n",
        "\n",
        "  def valid(self, x):\n",
        "   #return 0<sum(x*weights)<=W\n",
        "   return True\n",
        "\n",
        "  def generateFirstPopulation(self):\n",
        "    population=[]\n",
        "    count=0;\n",
        "    while True:\n",
        "      ind =np.random.randint(0, 2, sizeIndividual)\n",
        "      if (self.valid(ind)):\n",
        "        population.append(ind)\n",
        "        count=count+1\n",
        "      if count==sizePopulation:\n",
        "        return population\n",
        "\n",
        "  def roulette(self,population):\n",
        "    of=[self.fitnessFunct(s) for s in population]\n",
        "    probability=of/sum(of)\n",
        "    accumulatedProb=np.cumsum(probability)\n",
        "    return accumulatedProb \n",
        "\n",
        "  def selection(self, population, accumulatedProb):\n",
        "    nr=np.random.uniform()\n",
        "    for i,p in enumerate(accumulatedProb):\n",
        "      if nr<p:\n",
        "        return population[i]\n",
        "\n",
        "  def crossover(self,ind1, ind2):\n",
        "    cp=np.random.randint(1,len(ind1)-1)\n",
        "    ## Create new children\n",
        "    child1=np.concatenate((ind1[0:cp+1],ind2[cp+1:len(ind2)]))\n",
        "    child2=np.concatenate((ind2[0:cp+1],ind1[cp+1:len(ind1)]))\n",
        "    return child1,child2\n",
        "\n",
        "  def mutate(self,ind):\n",
        "    cp=np.random.randint(0,len(ind)-1)\n",
        "    child=np.copy(ind)\n",
        "    child[cp]=not child[cp]\n",
        "    return child\n",
        "\n",
        "  def geneticAlgorithm(self):\n",
        "    population=self.generateFirstPopulation()\n",
        "    accumulatedProb=self.roulette(population)\n",
        "    self.bestIndividual=[population[0]] # Lista de mejores individuos de cada población\n",
        "    for i in range(self.generations):\n",
        "      #Generar la nueva población\n",
        "      nextPopulation=[]\n",
        "      count=0\n",
        "      while True: # para crear la población cuando tengamos NP individuos\n",
        "        # Hacemos selección de dos individuos y cruce si es posible\n",
        "        ind1=self.selection(population, accumulatedProb)\n",
        "        ind2=self.selection(population, accumulatedProb)\n",
        "        crossProb=nr=np.random.uniform()\n",
        "        if crossProb<self.crossover_probability:\n",
        "          child1,child2=self.crossover(ind1,ind2)\n",
        "          if self.valid(child1):\n",
        "            nextPopulation.append(child1)\n",
        "          if self.valid(child2):\n",
        "            nextPopulation.append(child2)\n",
        "        else:\n",
        "          nextPopulation.append(ind1)\n",
        "          nextPopulation.append(ind2)\n",
        "        # Hacemos selección de un individuo y mutación si es posible\n",
        "        mutProb=nr=np.random.uniform()\n",
        "        ind=self.selection(population, accumulatedProb)\n",
        "        if mutProb<self.mutation_probability:\n",
        "          child=self.mutate(ind)\n",
        "          if self.valid(child):\n",
        "            nextPopulation.append(child)\n",
        "        else:\n",
        "          nextPopulation.append(ind)\n",
        "        if len(nextPopulation)>=sizePopulation:\n",
        "          nextPopulation=nextPopulation[0:sizePopulation]\n",
        "          break;\n",
        "      \n",
        "      accumulatedProb=self.roulette(nextPopulation)\n",
        "      sorted_population=sorted(nextPopulation,key=fitnessFunct,reverse=True)\n",
        "      self.bestIndividual.append(sorted_population[0])\n",
        "      population=nextPopulation\n",
        "    sortedBest=sorted(self.bestIndividual,key=self.fitnessFunct,reverse=True)\n",
        "    return sortedBest[0],self.fitnessFunct(sortedBest[0])\n",
        "    "
      ],
      "execution_count": null,
      "outputs": []
    },
    {
      "cell_type": "code",
      "metadata": {
        "id": "9Uz1VhVRY9bv"
      },
      "source": [
        "class GA_KnacksackProblem(Genetic_Algorithm):\n",
        "  def __init__(self, weights, prices, sizeKnacksack, sizeIndividual, sizePopulation, generations, mutation_probability, crossover_probability):\n",
        "    super(GA_KnacksackProblem, self).__init__(sizeIndividual, sizePopulation, generations, mutation_probability, crossover_probability)\n",
        "    self.weights=weights\n",
        "    self.prices=prices\n",
        "    self.sizeKnacksack=sizeKnacksack\n",
        "\n",
        "  def fitnessFunct(self,x):\n",
        "    return sum(x*self.prices)\n",
        "\n",
        "  def valid(self,x):\n",
        "    return 0<sum(x*self.weights)<=self.sizeKnacksack"
      ],
      "execution_count": null,
      "outputs": []
    },
    {
      "cell_type": "code",
      "metadata": {
        "id": "lyiVcCjlZ52z"
      },
      "source": [
        "KP=GA_KnacksackProblem(weights, prices, W, sizeIndividual, sizePopulation, generations, mutation_probability, crossover_probability)"
      ],
      "execution_count": null,
      "outputs": []
    },
    {
      "cell_type": "code",
      "metadata": {
        "colab": {
          "base_uri": "https://localhost:8080/"
        },
        "id": "PJFwrMzAb4S4",
        "outputId": "b07b3bea-445d-4953-9c75-1ec4c0863e63"
      },
      "source": [
        "solution, f=KP.geneticAlgorithm()\n",
        "print(solution, f)"
      ],
      "execution_count": null,
      "outputs": [
        {
          "output_type": "stream",
          "name": "stdout",
          "text": [
            "[0 1 1 0 0 1 1 0 1 1] 438.0507014881536\n"
          ]
        }
      ]
    },
    {
      "cell_type": "code",
      "metadata": {
        "colab": {
          "base_uri": "https://localhost:8080/",
          "height": 542
        },
        "id": "UkgJwDxs-aFD",
        "outputId": "b6069ae9-8b92-4d98-ded1-606697f0e44f"
      },
      "source": [
        "iteration=np.arange(0,len(KP.bestIndividual))\n",
        "fitnessValue=[KP.fitnessFunct(x) for x in KP.bestIndividual]\n",
        "df = pd.DataFrame(list(zip(iteration,fitnessValue)),\n",
        "               columns =['iteration', 'fitness'])\n",
        "fig = px.line(df, x=\"iteration\", y=\"fitness\")\n",
        "fig.show()"
      ],
      "execution_count": null,
      "outputs": [
        {
          "output_type": "display_data",
          "data": {
            "text/html": [
              "<html>\n",
              "<head><meta charset=\"utf-8\" /></head>\n",
              "<body>\n",
              "    <div>\n",
              "            <script src=\"https://cdnjs.cloudflare.com/ajax/libs/mathjax/2.7.5/MathJax.js?config=TeX-AMS-MML_SVG\"></script><script type=\"text/javascript\">if (window.MathJax) {MathJax.Hub.Config({SVG: {font: \"STIX-Web\"}});}</script>\n",
              "                <script type=\"text/javascript\">window.PlotlyConfig = {MathJaxConfig: 'local'};</script>\n",
              "        <script src=\"https://cdn.plot.ly/plotly-latest.min.js\"></script>    \n",
              "            <div id=\"706a086d-1501-4a07-b16d-a1e59a64b0eb\" class=\"plotly-graph-div\" style=\"height:525px; width:100%;\"></div>\n",
              "            <script type=\"text/javascript\">\n",
              "                \n",
              "                    window.PLOTLYENV=window.PLOTLYENV || {};\n",
              "                    \n",
              "                if (document.getElementById(\"706a086d-1501-4a07-b16d-a1e59a64b0eb\")) {\n",
              "                    Plotly.newPlot(\n",
              "                        '706a086d-1501-4a07-b16d-a1e59a64b0eb',\n",
              "                        [{\"hoverlabel\": {\"namelength\": 0}, \"hovertemplate\": \"iteration=%{x}<br>fitness=%{y}\", \"legendgroup\": \"\", \"line\": {\"color\": \"#636efa\", \"dash\": \"solid\"}, \"mode\": \"lines\", \"name\": \"\", \"showlegend\": false, \"type\": \"scatter\", \"x\": [0, 1, 2, 3, 4, 5, 6, 7, 8, 9, 10, 11, 12, 13, 14, 15, 16, 17, 18, 19, 20, 21, 22, 23, 24, 25, 26, 27, 28, 29, 30, 31, 32, 33, 34, 35, 36, 37, 38, 39, 40, 41, 42, 43, 44, 45, 46, 47, 48, 49, 50, 51, 52, 53, 54, 55, 56, 57, 58, 59, 60, 61, 62, 63, 64, 65, 66, 67, 68, 69, 70, 71, 72, 73, 74, 75, 76, 77, 78, 79, 80, 81, 82, 83, 84, 85, 86, 87, 88, 89, 90, 91, 92, 93, 94, 95, 96, 97, 98, 99, 100, 101, 102, 103, 104, 105, 106, 107, 108, 109, 110, 111, 112, 113, 114, 115, 116, 117, 118, 119, 120, 121, 122, 123, 124, 125, 126, 127, 128, 129, 130, 131, 132, 133, 134, 135, 136, 137, 138, 139, 140, 141, 142, 143, 144, 145, 146, 147, 148, 149, 150, 151, 152, 153, 154, 155, 156, 157, 158, 159, 160, 161, 162, 163, 164, 165, 166, 167, 168, 169, 170, 171, 172, 173, 174, 175, 176, 177, 178, 179, 180, 181, 182, 183, 184, 185, 186, 187, 188, 189, 190, 191, 192, 193, 194, 195, 196, 197, 198, 199, 200, 201, 202, 203, 204, 205, 206, 207, 208, 209, 210, 211, 212, 213, 214, 215, 216, 217, 218, 219, 220, 221, 222, 223, 224, 225, 226, 227, 228, 229, 230, 231, 232, 233, 234, 235, 236, 237, 238, 239, 240, 241, 242, 243, 244, 245, 246, 247, 248, 249, 250, 251, 252, 253, 254, 255, 256, 257, 258, 259, 260, 261, 262, 263, 264, 265, 266, 267, 268, 269, 270, 271, 272, 273, 274, 275, 276, 277, 278, 279, 280, 281, 282, 283, 284, 285, 286, 287, 288, 289, 290, 291, 292, 293, 294, 295, 296, 297, 298, 299, 300], \"xaxis\": \"x\", \"y\": [224.113403647995, 400.5971339525954, 438.0507014881536, 438.0507014881536, 438.0507014881536, 438.0507014881536, 438.0507014881536, 438.0507014881536, 438.0507014881536, 438.0507014881536, 438.0507014881536, 438.0507014881536, 438.0507014881536, 438.0507014881536, 438.0507014881536, 438.0507014881536, 438.0507014881536, 438.0507014881536, 438.0507014881536, 438.0507014881536, 438.0507014881536, 438.0507014881536, 437.2468341718629, 437.2468341718629, 437.2468341718629, 437.2468341718629, 437.2468341718629, 437.2468341718629, 437.2468341718629, 437.2468341718629, 437.2468341718629, 437.2468341718629, 437.2468341718629, 437.2468341718629, 437.2468341718629, 437.2468341718629, 437.2468341718629, 437.2468341718629, 437.2468341718629, 437.2468341718629, 437.2468341718629, 437.2468341718629, 437.2468341718629, 437.2468341718629, 437.2468341718629, 437.2468341718629, 437.2468341718629, 437.2468341718629, 437.2468341718629, 437.2468341718629, 437.2468341718629, 437.2468341718629, 437.2468341718629, 437.2468341718629, 437.2468341718629, 437.2468341718629, 437.2468341718629, 437.2468341718629, 437.2468341718629, 437.2468341718629, 437.2468341718629, 437.2468341718629, 437.2468341718629, 437.2468341718629, 437.2468341718629, 437.2468341718629, 437.2468341718629, 437.2468341718629, 437.2468341718629, 437.2468341718629, 437.2468341718629, 437.2468341718629, 437.2468341718629, 437.2468341718629, 437.2468341718629, 437.2468341718629, 437.2468341718629, 437.2468341718629, 437.2468341718629, 437.2468341718629, 437.2468341718629, 437.2468341718629, 437.2468341718629, 437.2468341718629, 437.2468341718629, 437.2468341718629, 437.2468341718629, 437.2468341718629, 437.2468341718629, 437.2468341718629, 437.2468341718629, 437.2468341718629, 437.2468341718629, 437.2468341718629, 437.2468341718629, 437.2468341718629, 437.2468341718629, 437.2468341718629, 437.2468341718629, 437.2468341718629, 437.2468341718629, 437.2468341718629, 437.2468341718629, 437.2468341718629, 437.2468341718629, 437.2468341718629, 437.2468341718629, 437.2468341718629, 437.2468341718629, 437.2468341718629, 437.2468341718629, 437.2468341718629, 437.2468341718629, 437.2468341718629, 437.2468341718629, 437.2468341718629, 437.2468341718629, 437.2468341718629, 437.2468341718629, 437.2468341718629, 437.2468341718629, 437.2468341718629, 437.2468341718629, 437.2468341718629, 437.2468341718629, 437.2468341718629, 437.2468341718629, 437.2468341718629, 437.2468341718629, 437.2468341718629, 437.2468341718629, 437.2468341718629, 437.2468341718629, 437.2468341718629, 437.2468341718629, 437.2468341718629, 437.2468341718629, 437.2468341718629, 437.2468341718629, 437.2468341718629, 437.2468341718629, 437.2468341718629, 437.2468341718629, 437.2468341718629, 437.2468341718629, 437.2468341718629, 437.2468341718629, 437.2468341718629, 437.2468341718629, 437.2468341718629, 437.2468341718629, 437.2468341718629, 437.2468341718629, 437.2468341718629, 437.2468341718629, 437.2468341718629, 437.2468341718629, 437.2468341718629, 437.2468341718629, 437.2468341718629, 437.2468341718629, 437.2468341718629, 437.2468341718629, 437.2468341718629, 437.2468341718629, 437.2468341718629, 437.2468341718629, 437.2468341718629, 437.2468341718629, 437.2468341718629, 437.2468341718629, 437.2468341718629, 437.2468341718629, 437.2468341718629, 437.2468341718629, 437.2468341718629, 437.2468341718629, 437.2468341718629, 437.2468341718629, 437.2468341718629, 437.2468341718629, 437.2468341718629, 437.2468341718629, 437.2468341718629, 437.2468341718629, 437.2468341718629, 437.2468341718629, 437.2468341718629, 437.2468341718629, 437.2468341718629, 437.2468341718629, 437.2468341718629, 437.2468341718629, 437.2468341718629, 437.2468341718629, 437.2468341718629, 437.2468341718629, 437.2468341718629, 437.2468341718629, 437.2468341718629, 437.2468341718629, 437.2468341718629, 437.2468341718629, 437.2468341718629, 437.2468341718629, 437.2468341718629, 437.2468341718629, 437.2468341718629, 437.2468341718629, 437.2468341718629, 437.2468341718629, 437.2468341718629, 437.2468341718629, 437.2468341718629, 437.2468341718629, 437.2468341718629, 437.2468341718629, 437.2468341718629, 437.2468341718629, 437.2468341718629, 437.2468341718629, 437.2468341718629, 437.2468341718629, 437.2468341718629, 437.2468341718629, 437.2468341718629, 437.2468341718629, 437.2468341718629, 437.2468341718629, 437.2468341718629, 437.2468341718629, 437.2468341718629, 437.2468341718629, 437.2468341718629, 437.2468341718629, 437.2468341718629, 437.2468341718629, 437.2468341718629, 437.2468341718629, 437.2468341718629, 437.2468341718629, 437.2468341718629, 437.2468341718629, 437.2468341718629, 437.2468341718629, 437.2468341718629, 437.2468341718629, 437.2468341718629, 437.2468341718629, 437.2468341718629, 437.2468341718629, 437.2468341718629, 437.2468341718629, 437.2468341718629, 437.2468341718629, 437.2468341718629, 437.2468341718629, 437.2468341718629, 437.2468341718629, 437.2468341718629, 437.2468341718629, 437.2468341718629, 437.2468341718629, 437.2468341718629, 437.2468341718629, 437.2468341718629, 437.2468341718629, 437.2468341718629, 437.2468341718629, 437.2468341718629, 437.2468341718629, 437.2468341718629, 437.2468341718629, 437.2468341718629, 437.2468341718629, 437.2468341718629, 437.2468341718629, 437.2468341718629, 437.2468341718629, 437.2468341718629, 437.2468341718629, 437.2468341718629, 437.2468341718629, 437.2468341718629, 437.2468341718629, 437.2468341718629, 437.2468341718629, 437.2468341718629, 437.2468341718629, 437.2468341718629, 437.2468341718629, 437.2468341718629, 437.2468341718629, 437.2468341718629, 437.2468341718629, 437.2468341718629, 437.2468341718629, 437.2468341718629, 437.2468341718629, 437.2468341718629, 437.2468341718629], \"yaxis\": \"y\"}],\n",
              "                        {\"legend\": {\"tracegroupgap\": 0}, \"margin\": {\"t\": 60}, \"template\": {\"data\": {\"bar\": [{\"error_x\": {\"color\": \"#2a3f5f\"}, \"error_y\": {\"color\": \"#2a3f5f\"}, \"marker\": {\"line\": {\"color\": \"#E5ECF6\", \"width\": 0.5}}, \"type\": \"bar\"}], \"barpolar\": [{\"marker\": {\"line\": {\"color\": \"#E5ECF6\", \"width\": 0.5}}, \"type\": \"barpolar\"}], \"carpet\": [{\"aaxis\": {\"endlinecolor\": \"#2a3f5f\", \"gridcolor\": \"white\", \"linecolor\": \"white\", \"minorgridcolor\": \"white\", \"startlinecolor\": \"#2a3f5f\"}, \"baxis\": {\"endlinecolor\": \"#2a3f5f\", \"gridcolor\": \"white\", \"linecolor\": \"white\", \"minorgridcolor\": \"white\", \"startlinecolor\": \"#2a3f5f\"}, \"type\": \"carpet\"}], \"choropleth\": [{\"colorbar\": {\"outlinewidth\": 0, \"ticks\": \"\"}, \"type\": \"choropleth\"}], \"contour\": [{\"colorbar\": {\"outlinewidth\": 0, \"ticks\": \"\"}, \"colorscale\": [[0.0, \"#0d0887\"], [0.1111111111111111, \"#46039f\"], [0.2222222222222222, \"#7201a8\"], [0.3333333333333333, \"#9c179e\"], [0.4444444444444444, \"#bd3786\"], [0.5555555555555556, \"#d8576b\"], [0.6666666666666666, \"#ed7953\"], [0.7777777777777778, \"#fb9f3a\"], [0.8888888888888888, \"#fdca26\"], [1.0, \"#f0f921\"]], \"type\": \"contour\"}], \"contourcarpet\": [{\"colorbar\": {\"outlinewidth\": 0, \"ticks\": \"\"}, \"type\": \"contourcarpet\"}], \"heatmap\": [{\"colorbar\": {\"outlinewidth\": 0, \"ticks\": \"\"}, \"colorscale\": [[0.0, \"#0d0887\"], [0.1111111111111111, \"#46039f\"], [0.2222222222222222, \"#7201a8\"], [0.3333333333333333, \"#9c179e\"], [0.4444444444444444, \"#bd3786\"], [0.5555555555555556, \"#d8576b\"], [0.6666666666666666, \"#ed7953\"], [0.7777777777777778, \"#fb9f3a\"], [0.8888888888888888, \"#fdca26\"], [1.0, \"#f0f921\"]], \"type\": \"heatmap\"}], \"heatmapgl\": [{\"colorbar\": {\"outlinewidth\": 0, \"ticks\": \"\"}, \"colorscale\": [[0.0, \"#0d0887\"], [0.1111111111111111, \"#46039f\"], [0.2222222222222222, \"#7201a8\"], [0.3333333333333333, \"#9c179e\"], [0.4444444444444444, \"#bd3786\"], [0.5555555555555556, \"#d8576b\"], [0.6666666666666666, \"#ed7953\"], [0.7777777777777778, \"#fb9f3a\"], [0.8888888888888888, \"#fdca26\"], [1.0, \"#f0f921\"]], \"type\": \"heatmapgl\"}], \"histogram\": [{\"marker\": {\"colorbar\": {\"outlinewidth\": 0, \"ticks\": \"\"}}, \"type\": \"histogram\"}], \"histogram2d\": [{\"colorbar\": {\"outlinewidth\": 0, \"ticks\": \"\"}, \"colorscale\": [[0.0, \"#0d0887\"], [0.1111111111111111, \"#46039f\"], [0.2222222222222222, \"#7201a8\"], [0.3333333333333333, \"#9c179e\"], [0.4444444444444444, \"#bd3786\"], [0.5555555555555556, \"#d8576b\"], [0.6666666666666666, \"#ed7953\"], [0.7777777777777778, \"#fb9f3a\"], [0.8888888888888888, \"#fdca26\"], [1.0, \"#f0f921\"]], \"type\": \"histogram2d\"}], \"histogram2dcontour\": [{\"colorbar\": {\"outlinewidth\": 0, \"ticks\": \"\"}, \"colorscale\": [[0.0, \"#0d0887\"], [0.1111111111111111, \"#46039f\"], [0.2222222222222222, \"#7201a8\"], [0.3333333333333333, \"#9c179e\"], [0.4444444444444444, \"#bd3786\"], [0.5555555555555556, \"#d8576b\"], [0.6666666666666666, \"#ed7953\"], [0.7777777777777778, \"#fb9f3a\"], [0.8888888888888888, \"#fdca26\"], [1.0, \"#f0f921\"]], \"type\": \"histogram2dcontour\"}], \"mesh3d\": [{\"colorbar\": {\"outlinewidth\": 0, \"ticks\": \"\"}, \"type\": \"mesh3d\"}], \"parcoords\": [{\"line\": {\"colorbar\": {\"outlinewidth\": 0, \"ticks\": \"\"}}, \"type\": \"parcoords\"}], \"pie\": [{\"automargin\": true, \"type\": \"pie\"}], \"scatter\": [{\"marker\": {\"colorbar\": {\"outlinewidth\": 0, \"ticks\": \"\"}}, \"type\": \"scatter\"}], \"scatter3d\": [{\"line\": {\"colorbar\": {\"outlinewidth\": 0, \"ticks\": \"\"}}, \"marker\": {\"colorbar\": {\"outlinewidth\": 0, \"ticks\": \"\"}}, \"type\": \"scatter3d\"}], \"scattercarpet\": [{\"marker\": {\"colorbar\": {\"outlinewidth\": 0, \"ticks\": \"\"}}, \"type\": \"scattercarpet\"}], \"scattergeo\": [{\"marker\": {\"colorbar\": {\"outlinewidth\": 0, \"ticks\": \"\"}}, \"type\": \"scattergeo\"}], \"scattergl\": [{\"marker\": {\"colorbar\": {\"outlinewidth\": 0, \"ticks\": \"\"}}, \"type\": \"scattergl\"}], \"scattermapbox\": [{\"marker\": {\"colorbar\": {\"outlinewidth\": 0, \"ticks\": \"\"}}, \"type\": \"scattermapbox\"}], \"scatterpolar\": [{\"marker\": {\"colorbar\": {\"outlinewidth\": 0, \"ticks\": \"\"}}, \"type\": \"scatterpolar\"}], \"scatterpolargl\": [{\"marker\": {\"colorbar\": {\"outlinewidth\": 0, \"ticks\": \"\"}}, \"type\": \"scatterpolargl\"}], \"scatterternary\": [{\"marker\": {\"colorbar\": {\"outlinewidth\": 0, \"ticks\": \"\"}}, \"type\": \"scatterternary\"}], \"surface\": [{\"colorbar\": {\"outlinewidth\": 0, \"ticks\": \"\"}, \"colorscale\": [[0.0, \"#0d0887\"], [0.1111111111111111, \"#46039f\"], [0.2222222222222222, \"#7201a8\"], [0.3333333333333333, \"#9c179e\"], [0.4444444444444444, \"#bd3786\"], [0.5555555555555556, \"#d8576b\"], [0.6666666666666666, \"#ed7953\"], [0.7777777777777778, \"#fb9f3a\"], [0.8888888888888888, \"#fdca26\"], [1.0, \"#f0f921\"]], \"type\": \"surface\"}], \"table\": [{\"cells\": {\"fill\": {\"color\": \"#EBF0F8\"}, \"line\": {\"color\": \"white\"}}, \"header\": {\"fill\": {\"color\": \"#C8D4E3\"}, \"line\": {\"color\": \"white\"}}, \"type\": \"table\"}]}, \"layout\": {\"annotationdefaults\": {\"arrowcolor\": \"#2a3f5f\", \"arrowhead\": 0, \"arrowwidth\": 1}, \"coloraxis\": {\"colorbar\": {\"outlinewidth\": 0, \"ticks\": \"\"}}, \"colorscale\": {\"diverging\": [[0, \"#8e0152\"], [0.1, \"#c51b7d\"], [0.2, \"#de77ae\"], [0.3, \"#f1b6da\"], [0.4, \"#fde0ef\"], [0.5, \"#f7f7f7\"], [0.6, \"#e6f5d0\"], [0.7, \"#b8e186\"], [0.8, \"#7fbc41\"], [0.9, \"#4d9221\"], [1, \"#276419\"]], \"sequential\": [[0.0, \"#0d0887\"], [0.1111111111111111, \"#46039f\"], [0.2222222222222222, \"#7201a8\"], [0.3333333333333333, \"#9c179e\"], [0.4444444444444444, \"#bd3786\"], [0.5555555555555556, \"#d8576b\"], [0.6666666666666666, \"#ed7953\"], [0.7777777777777778, \"#fb9f3a\"], [0.8888888888888888, \"#fdca26\"], [1.0, \"#f0f921\"]], \"sequentialminus\": [[0.0, \"#0d0887\"], [0.1111111111111111, \"#46039f\"], [0.2222222222222222, \"#7201a8\"], [0.3333333333333333, \"#9c179e\"], [0.4444444444444444, \"#bd3786\"], [0.5555555555555556, \"#d8576b\"], [0.6666666666666666, \"#ed7953\"], [0.7777777777777778, \"#fb9f3a\"], [0.8888888888888888, \"#fdca26\"], [1.0, \"#f0f921\"]]}, \"colorway\": [\"#636efa\", \"#EF553B\", \"#00cc96\", \"#ab63fa\", \"#FFA15A\", \"#19d3f3\", \"#FF6692\", \"#B6E880\", \"#FF97FF\", \"#FECB52\"], \"font\": {\"color\": \"#2a3f5f\"}, \"geo\": {\"bgcolor\": \"white\", \"lakecolor\": \"white\", \"landcolor\": \"#E5ECF6\", \"showlakes\": true, \"showland\": true, \"subunitcolor\": \"white\"}, \"hoverlabel\": {\"align\": \"left\"}, \"hovermode\": \"closest\", \"mapbox\": {\"style\": \"light\"}, \"paper_bgcolor\": \"white\", \"plot_bgcolor\": \"#E5ECF6\", \"polar\": {\"angularaxis\": {\"gridcolor\": \"white\", \"linecolor\": \"white\", \"ticks\": \"\"}, \"bgcolor\": \"#E5ECF6\", \"radialaxis\": {\"gridcolor\": \"white\", \"linecolor\": \"white\", \"ticks\": \"\"}}, \"scene\": {\"xaxis\": {\"backgroundcolor\": \"#E5ECF6\", \"gridcolor\": \"white\", \"gridwidth\": 2, \"linecolor\": \"white\", \"showbackground\": true, \"ticks\": \"\", \"zerolinecolor\": \"white\"}, \"yaxis\": {\"backgroundcolor\": \"#E5ECF6\", \"gridcolor\": \"white\", \"gridwidth\": 2, \"linecolor\": \"white\", \"showbackground\": true, \"ticks\": \"\", \"zerolinecolor\": \"white\"}, \"zaxis\": {\"backgroundcolor\": \"#E5ECF6\", \"gridcolor\": \"white\", \"gridwidth\": 2, \"linecolor\": \"white\", \"showbackground\": true, \"ticks\": \"\", \"zerolinecolor\": \"white\"}}, \"shapedefaults\": {\"line\": {\"color\": \"#2a3f5f\"}}, \"ternary\": {\"aaxis\": {\"gridcolor\": \"white\", \"linecolor\": \"white\", \"ticks\": \"\"}, \"baxis\": {\"gridcolor\": \"white\", \"linecolor\": \"white\", \"ticks\": \"\"}, \"bgcolor\": \"#E5ECF6\", \"caxis\": {\"gridcolor\": \"white\", \"linecolor\": \"white\", \"ticks\": \"\"}}, \"title\": {\"x\": 0.05}, \"xaxis\": {\"automargin\": true, \"gridcolor\": \"white\", \"linecolor\": \"white\", \"ticks\": \"\", \"title\": {\"standoff\": 15}, \"zerolinecolor\": \"white\", \"zerolinewidth\": 2}, \"yaxis\": {\"automargin\": true, \"gridcolor\": \"white\", \"linecolor\": \"white\", \"ticks\": \"\", \"title\": {\"standoff\": 15}, \"zerolinecolor\": \"white\", \"zerolinewidth\": 2}}}, \"xaxis\": {\"anchor\": \"y\", \"domain\": [0.0, 1.0], \"title\": {\"text\": \"iteration\"}}, \"yaxis\": {\"anchor\": \"x\", \"domain\": [0.0, 1.0], \"title\": {\"text\": \"fitness\"}}},\n",
              "                        {\"responsive\": true}\n",
              "                    ).then(function(){\n",
              "                            \n",
              "var gd = document.getElementById('706a086d-1501-4a07-b16d-a1e59a64b0eb');\n",
              "var x = new MutationObserver(function (mutations, observer) {{\n",
              "        var display = window.getComputedStyle(gd).display;\n",
              "        if (!display || display === 'none') {{\n",
              "            console.log([gd, 'removed!']);\n",
              "            Plotly.purge(gd);\n",
              "            observer.disconnect();\n",
              "        }}\n",
              "}});\n",
              "\n",
              "// Listen for the removal of the full notebook cells\n",
              "var notebookContainer = gd.closest('#notebook-container');\n",
              "if (notebookContainer) {{\n",
              "    x.observe(notebookContainer, {childList: true});\n",
              "}}\n",
              "\n",
              "// Listen for the clearing of the current output cell\n",
              "var outputEl = gd.closest('.output');\n",
              "if (outputEl) {{\n",
              "    x.observe(outputEl, {childList: true});\n",
              "}}\n",
              "\n",
              "                        })\n",
              "                };\n",
              "                \n",
              "            </script>\n",
              "        </div>\n",
              "</body>\n",
              "</html>"
            ]
          },
          "metadata": {}
        }
      ]
    },
    {
      "cell_type": "markdown",
      "metadata": {
        "id": "p2rtmgnNunvO"
      },
      "source": [
        "Ejecutar el método con los parámetros seleccionados\n"
      ]
    },
    {
      "cell_type": "code",
      "metadata": {
        "colab": {
          "base_uri": "https://localhost:8080/",
          "height": 281
        },
        "cellView": "form",
        "id": "OAm7cUAHuzwv",
        "outputId": "42d61db8-bd8a-4eee-bb16-1d323dc51b87"
      },
      "source": [
        "#@Ejecutar el problema de la mochila con los parámetros seleccionados\n",
        "sizeKnacksack = 15 #@param {type:\"integer\"}\n",
        "sizeIndividual = 10 #@param {type:\"integer\"}\n",
        "minprice = 1 #@param {type:\"number\"}\n",
        "maxprice = 100 #@param {type:\"number\"}\n",
        "\n",
        "sizePopulation = 30 #@param {type:\"integer\"}\n",
        "generations = 300 #@param {type:\"integer\"}\n",
        "mutation_probability = 0.2 #@param {type:\"number\"}\n",
        "crossover_probability = 0.9 #@param {type:\"number\"}\n",
        "\n",
        "W=sizeKnacksack\n",
        "N=sizeIndividual\n",
        "weights = W*np.random.random_sample((N,))\n",
        "prices = (maxprice-minprice)*np.random.random_sample((N,))+minprice\n",
        "\n",
        "\n",
        "from IPython.display import Markdown, display\n",
        "title='Suponiendo un problema donde tenemos una mochila con una capacidad de '+ str(sizeKnacksack) + 'Kg'\n",
        "display(Markdown('**{}**'.format(title)))\n",
        "display(Markdown(\"**Los siguientes productos:**\"))\n",
        "print(['p'+str(i) for i in range(N)])\n",
        "display(Markdown(\"**Con los siguientes pesos respectivos:**\"))\n",
        "print(weights)\n",
        "display(Markdown(\"**Y los siguientes precios:**\"))\n",
        "print(prices)\n",
        "KP=GA_KnacksackProblem(weights, prices, sizeKnacksack, sizeIndividual, sizePopulation, generations, mutation_probability, crossover_probability)\n",
        "solution, f=KP.geneticAlgorithm()\n",
        "resp='Para una mejor de ganancia de: ' +'{:.2f}'.format(f)\n",
        "display(Markdown('**{}**'.format(resp)))\n",
        "display(Markdown(\"**La mejor combinación es llevar los productos:**\"))\n",
        "print(['p'+str(i) for i,s in enumerate(solution) if s])\n",
        "#display(Markdown((solution, f)"
      ],
      "execution_count": null,
      "outputs": [
        {
          "output_type": "display_data",
          "data": {
            "text/markdown": "**Suponiendo un problema donde tenemos una mochila con una capacidad de 15Kg**",
            "text/plain": [
              "<IPython.core.display.Markdown object>"
            ]
          },
          "metadata": {}
        },
        {
          "output_type": "display_data",
          "data": {
            "text/markdown": "**Los siguientes productos:**",
            "text/plain": [
              "<IPython.core.display.Markdown object>"
            ]
          },
          "metadata": {}
        },
        {
          "output_type": "stream",
          "name": "stdout",
          "text": [
            "['p0', 'p1', 'p2', 'p3', 'p4', 'p5', 'p6', 'p7', 'p8', 'p9']\n"
          ]
        },
        {
          "output_type": "display_data",
          "data": {
            "text/markdown": "**Con los siguientes pesos respectivos:**",
            "text/plain": [
              "<IPython.core.display.Markdown object>"
            ]
          },
          "metadata": {}
        },
        {
          "output_type": "stream",
          "name": "stdout",
          "text": [
            "[ 1.91760814  6.6490868   6.73207629  9.52097871  8.53559996 14.72211337\n",
            " 10.92539892 14.85589372  9.85340478  5.84007595]\n"
          ]
        },
        {
          "output_type": "display_data",
          "data": {
            "text/markdown": "**Y los siguientes precios:**",
            "text/plain": [
              "<IPython.core.display.Markdown object>"
            ]
          },
          "metadata": {}
        },
        {
          "output_type": "stream",
          "name": "stdout",
          "text": [
            "[ 6.74374894 59.20488    20.97832667 70.57071374 47.91950194 60.77569853\n",
            " 39.6685763  21.39091683 87.98114602 63.62814923]\n"
          ]
        },
        {
          "output_type": "display_data",
          "data": {
            "text/markdown": "**Para una mejor de ganancia de: 129.58**",
            "text/plain": [
              "<IPython.core.display.Markdown object>"
            ]
          },
          "metadata": {}
        },
        {
          "output_type": "display_data",
          "data": {
            "text/markdown": "**La mejor combinación es llevar los productos:**",
            "text/plain": [
              "<IPython.core.display.Markdown object>"
            ]
          },
          "metadata": {}
        },
        {
          "output_type": "stream",
          "name": "stdout",
          "text": [
            "['p0', 'p1', 'p9']\n"
          ]
        }
      ]
    }
  ]
}